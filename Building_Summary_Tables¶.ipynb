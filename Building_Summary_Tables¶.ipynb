{
 "cells": [
  {
   "cell_type": "markdown",
   "id": "0824c794",
   "metadata": {},
   "source": [
    "# Task 3: Building Summary Tables\n",
    "\n",
    "#### You will submit your Python code that builds the database. \n",
    "\n",
    "Here I connect to Google Big Query to the stored clean files on the umt-msba databse to the transactions project. \n"
   ]
  },
  {
   "cell_type": "markdown",
   "id": "62ae1a99",
   "metadata": {},
   "source": [
    "## Connecting to GBQ"
   ]
  },
  {
   "cell_type": "code",
   "execution_count": 5,
   "id": "2670612e",
   "metadata": {},
   "outputs": [],
   "source": [
    "import os\n",
    "import re\n",
    "import datetime\n",
    "import sqlite3\n",
    "\n",
    "\n",
    "import pandas as pd\n",
    "import numpy as np\n",
    "import matplotlib.pyplot as plt\n",
    "import pandas_gbq\n",
    "import janitor\n",
    "\n",
    "# Do our imports for the code\n",
    "from google.cloud import bigquery\n",
    "from google.oauth2 import service_account\n",
    "from sqlalchemy import create_engine"
   ]
  },
  {
   "cell_type": "code",
   "execution_count": 21,
   "id": "1eaf4d4e",
   "metadata": {},
   "outputs": [],
   "source": [
    "#Set Paths for GBQ\n",
    "service_path = \"/Users/meganalbee/Desktop/ADA/key/\"\n",
    "service_file = 'albee-msba-4037d70faf07.json' # My Key   \n",
    "gbq_proj_id = 'albee-msba' # My GBQ \n",
    "dataset_id = 'wedge_msba' #Set to the Wedge\n",
    "\n",
    "#Private Key. Do not change. \n",
    "private_key = service_path + service_file"
   ]
  },
  {
   "cell_type": "code",
   "execution_count": 7,
   "id": "d7607da4",
   "metadata": {},
   "outputs": [],
   "source": [
    "# Now we pass in our credentials so that Python has permission to access our project.\n",
    "credentials = service_account.Credentials.from_service_account_file(service_path + service_file)"
   ]
  },
  {
   "cell_type": "code",
   "execution_count": 8,
   "id": "0573f6ea",
   "metadata": {},
   "outputs": [],
   "source": [
    "# And finally we establish our connection\n",
    "client = bigquery.Client(credentials = credentials, project=gbq_proj_id)"
   ]
  },
  {
   "cell_type": "markdown",
   "id": "d7861231",
   "metadata": {},
   "source": [
    "## Queries for Task\n",
    "There are three total. \n",
    "\n",
    "1. Sales by date by hour: By calendar date (YYYY-MM-DD) and hour of the day, determine the total spend in the store, the number of transactions, and a count of the number of items .\n",
    "\n",
    "2. Sales by owner by year by month: A file that has the following columns: card_no, year, month, sales, transactions, and items.\n",
    "\n",
    "3. Sales by product description by year by month: A file that has the following columns: upc, description, department number, department name, year, month, sales, transactions, and items. "
   ]
  },
  {
   "cell_type": "markdown",
   "id": "16f6af90",
   "metadata": {},
   "source": [
    "## Query 1\n",
    "Sales by date by hour: By calendar date (YYYY-MM-DD) and hour of the day, determine the total spend in the store, the number of transactions, and a count of the number of items ."
   ]
  },
  {
   "cell_type": "code",
   "execution_count": 29,
   "id": "539bc21a",
   "metadata": {
    "scrolled": true
   },
   "outputs": [
    {
     "name": "stderr",
     "output_type": "stream",
     "text": [
      "Downloading: 100%|███████████████████| 39334/39334 [00:02<00:00, 15073.28rows/s]\n"
     ]
    }
   ],
   "source": [
    "query1 = \"\"\"\n",
    "\n",
    "        SELECT EXTRACT(date FROM datetime) as date,\n",
    "        EXTRACT(HOUR FROM datetime) as hour,\n",
    "        SUM(total) as tot_spend,\n",
    "        COUNT(DISTINCT Concat(\n",
    "            cast(EXTRACT(date FROM datetime) as string), \n",
    "            cast(register_no as string), \n",
    "            cast(emp_no as string), \n",
    "            (cast(trans_no as string)))) as no_trans, \n",
    "        SUM(CASE WHEN trans_status in ('V','R') THEN -1\n",
    "            ELSE 1 \n",
    "            END) AS no_items\n",
    "FROM `albee-msba.wedge_msba.transArchive_*`\n",
    "WHERE department != '0'\n",
    "AND department != '15'\n",
    "AND (trans_status is NULL or\n",
    "     trans_status in (' ', 'V','R'))\n",
    "GROUP BY date, hour\n",
    "ORDER BY date, hour\n",
    "\n",
    "\"\"\"\n",
    "\n",
    "\n",
    "sales_date_hour = pandas_gbq.read_gbq(query1,project_id = gbq_proj_id)\n"
   ]
  },
  {
   "cell_type": "code",
   "execution_count": 30,
   "id": "db3486ce",
   "metadata": {},
   "outputs": [
    {
     "data": {
      "text/html": [
       "<div>\n",
       "<style scoped>\n",
       "    .dataframe tbody tr th:only-of-type {\n",
       "        vertical-align: middle;\n",
       "    }\n",
       "\n",
       "    .dataframe tbody tr th {\n",
       "        vertical-align: top;\n",
       "    }\n",
       "\n",
       "    .dataframe thead th {\n",
       "        text-align: right;\n",
       "    }\n",
       "</style>\n",
       "<table border=\"1\" class=\"dataframe\">\n",
       "  <thead>\n",
       "    <tr style=\"text-align: right;\">\n",
       "      <th></th>\n",
       "      <th>date</th>\n",
       "      <th>hour</th>\n",
       "      <th>tot_spend</th>\n",
       "      <th>no_trans</th>\n",
       "      <th>no_items</th>\n",
       "    </tr>\n",
       "  </thead>\n",
       "  <tbody>\n",
       "    <tr>\n",
       "      <th>0</th>\n",
       "      <td>2010-01-01</td>\n",
       "      <td>9</td>\n",
       "      <td>1003.29</td>\n",
       "      <td>36</td>\n",
       "      <td>244</td>\n",
       "    </tr>\n",
       "    <tr>\n",
       "      <th>1</th>\n",
       "      <td>2010-01-01</td>\n",
       "      <td>10</td>\n",
       "      <td>3128.55</td>\n",
       "      <td>82</td>\n",
       "      <td>913</td>\n",
       "    </tr>\n",
       "    <tr>\n",
       "      <th>2</th>\n",
       "      <td>2010-01-01</td>\n",
       "      <td>11</td>\n",
       "      <td>4001.66</td>\n",
       "      <td>118</td>\n",
       "      <td>1108</td>\n",
       "    </tr>\n",
       "    <tr>\n",
       "      <th>3</th>\n",
       "      <td>2010-01-01</td>\n",
       "      <td>12</td>\n",
       "      <td>3886.51</td>\n",
       "      <td>124</td>\n",
       "      <td>1143</td>\n",
       "    </tr>\n",
       "    <tr>\n",
       "      <th>4</th>\n",
       "      <td>2010-01-01</td>\n",
       "      <td>13</td>\n",
       "      <td>4654.52</td>\n",
       "      <td>154</td>\n",
       "      <td>1365</td>\n",
       "    </tr>\n",
       "    <tr>\n",
       "      <th>...</th>\n",
       "      <td>...</td>\n",
       "      <td>...</td>\n",
       "      <td>...</td>\n",
       "      <td>...</td>\n",
       "      <td>...</td>\n",
       "    </tr>\n",
       "    <tr>\n",
       "      <th>39329</th>\n",
       "      <td>2017-01-31</td>\n",
       "      <td>18</td>\n",
       "      <td>6992.52</td>\n",
       "      <td>255</td>\n",
       "      <td>1713</td>\n",
       "    </tr>\n",
       "    <tr>\n",
       "      <th>39330</th>\n",
       "      <td>2017-01-31</td>\n",
       "      <td>19</td>\n",
       "      <td>5386.16</td>\n",
       "      <td>208</td>\n",
       "      <td>1378</td>\n",
       "    </tr>\n",
       "    <tr>\n",
       "      <th>39331</th>\n",
       "      <td>2017-01-31</td>\n",
       "      <td>20</td>\n",
       "      <td>4635.16</td>\n",
       "      <td>160</td>\n",
       "      <td>1236</td>\n",
       "    </tr>\n",
       "    <tr>\n",
       "      <th>39332</th>\n",
       "      <td>2017-01-31</td>\n",
       "      <td>21</td>\n",
       "      <td>2910.39</td>\n",
       "      <td>115</td>\n",
       "      <td>833</td>\n",
       "    </tr>\n",
       "    <tr>\n",
       "      <th>39333</th>\n",
       "      <td>2017-01-31</td>\n",
       "      <td>22</td>\n",
       "      <td>34.55</td>\n",
       "      <td>1</td>\n",
       "      <td>11</td>\n",
       "    </tr>\n",
       "  </tbody>\n",
       "</table>\n",
       "<p>39334 rows × 5 columns</p>\n",
       "</div>"
      ],
      "text/plain": [
       "             date  hour  tot_spend  no_trans  no_items\n",
       "0      2010-01-01     9    1003.29        36       244\n",
       "1      2010-01-01    10    3128.55        82       913\n",
       "2      2010-01-01    11    4001.66       118      1108\n",
       "3      2010-01-01    12    3886.51       124      1143\n",
       "4      2010-01-01    13    4654.52       154      1365\n",
       "...           ...   ...        ...       ...       ...\n",
       "39329  2017-01-31    18    6992.52       255      1713\n",
       "39330  2017-01-31    19    5386.16       208      1378\n",
       "39331  2017-01-31    20    4635.16       160      1236\n",
       "39332  2017-01-31    21    2910.39       115       833\n",
       "39333  2017-01-31    22      34.55         1        11\n",
       "\n",
       "[39334 rows x 5 columns]"
      ]
     },
     "execution_count": 30,
     "metadata": {},
     "output_type": "execute_result"
    }
   ],
   "source": [
    "sales_date_hour"
   ]
  },
  {
   "cell_type": "markdown",
   "id": "6ed899f9",
   "metadata": {},
   "source": [
    "## Query 2\n",
    "Sales by owner by year by month: A file that has the following columns: card_no, year, month, sales, transactions, and items."
   ]
  },
  {
   "cell_type": "code",
   "execution_count": 27,
   "id": "0c82f867",
   "metadata": {},
   "outputs": [
    {
     "name": "stderr",
     "output_type": "stream",
     "text": [
      "Downloading: 100%|█████████████████| 808964/808964 [00:41<00:00, 19675.53rows/s]\n"
     ]
    }
   ],
   "source": [
    "query2 = \"\"\"\n",
    "            SELECT card_no, \n",
    "        EXTRACT(YEAR FROM datetime) as year,\n",
    "        EXTRACT(MONTH FROM datetime) as month,\n",
    "        SUM(total) as tot_spend,\n",
    "        COUNT(DISTINCT Concat(\n",
    "            cast(EXTRACT(date FROM datetime) as string), \n",
    "            cast(register_no as string), \n",
    "            cast(emp_no as string), \n",
    "            (cast(trans_no as string)))) as no_trans, \n",
    "        SUM(CASE WHEN trans_status in ('V','R') THEN -1\n",
    "            ELSE 1 \n",
    "            END) AS no_items\n",
    "        FROM `albee-msba.wedge_msba.transArchive_*`\n",
    "        WHERE department != '0'\n",
    "        AND department != '15'\n",
    "        AND (trans_status is NULL or\n",
    "             trans_status in (' ', 'V','R'))\n",
    "        GROUP BY card_no, year, month\n",
    "        ORDER BY year, month\n",
    "\n",
    "\"\"\"\n",
    "sales_by_owner_ym = pandas_gbq.read_gbq(query2,project_id = gbq_proj_id)\n"
   ]
  },
  {
   "cell_type": "code",
   "execution_count": 31,
   "id": "97a046a3",
   "metadata": {},
   "outputs": [
    {
     "data": {
      "text/html": [
       "<div>\n",
       "<style scoped>\n",
       "    .dataframe tbody tr th:only-of-type {\n",
       "        vertical-align: middle;\n",
       "    }\n",
       "\n",
       "    .dataframe tbody tr th {\n",
       "        vertical-align: top;\n",
       "    }\n",
       "\n",
       "    .dataframe thead th {\n",
       "        text-align: right;\n",
       "    }\n",
       "</style>\n",
       "<table border=\"1\" class=\"dataframe\">\n",
       "  <thead>\n",
       "    <tr style=\"text-align: right;\">\n",
       "      <th></th>\n",
       "      <th>card_no</th>\n",
       "      <th>year</th>\n",
       "      <th>month</th>\n",
       "      <th>tot_spend</th>\n",
       "      <th>no_trans</th>\n",
       "      <th>no_items</th>\n",
       "    </tr>\n",
       "  </thead>\n",
       "  <tbody>\n",
       "    <tr>\n",
       "      <th>0</th>\n",
       "      <td>50449</td>\n",
       "      <td>2010</td>\n",
       "      <td>1</td>\n",
       "      <td>513.41</td>\n",
       "      <td>5</td>\n",
       "      <td>179</td>\n",
       "    </tr>\n",
       "    <tr>\n",
       "      <th>1</th>\n",
       "      <td>14022</td>\n",
       "      <td>2010</td>\n",
       "      <td>1</td>\n",
       "      <td>483.63</td>\n",
       "      <td>3</td>\n",
       "      <td>107</td>\n",
       "    </tr>\n",
       "    <tr>\n",
       "      <th>2</th>\n",
       "      <td>16606</td>\n",
       "      <td>2010</td>\n",
       "      <td>1</td>\n",
       "      <td>916.61</td>\n",
       "      <td>4</td>\n",
       "      <td>211</td>\n",
       "    </tr>\n",
       "    <tr>\n",
       "      <th>3</th>\n",
       "      <td>12225</td>\n",
       "      <td>2010</td>\n",
       "      <td>1</td>\n",
       "      <td>131.86</td>\n",
       "      <td>2</td>\n",
       "      <td>59</td>\n",
       "    </tr>\n",
       "    <tr>\n",
       "      <th>4</th>\n",
       "      <td>30454</td>\n",
       "      <td>2010</td>\n",
       "      <td>1</td>\n",
       "      <td>371.76</td>\n",
       "      <td>7</td>\n",
       "      <td>102</td>\n",
       "    </tr>\n",
       "    <tr>\n",
       "      <th>...</th>\n",
       "      <td>...</td>\n",
       "      <td>...</td>\n",
       "      <td>...</td>\n",
       "      <td>...</td>\n",
       "      <td>...</td>\n",
       "      <td>...</td>\n",
       "    </tr>\n",
       "    <tr>\n",
       "      <th>808959</th>\n",
       "      <td>12262</td>\n",
       "      <td>2017</td>\n",
       "      <td>1</td>\n",
       "      <td>66.62</td>\n",
       "      <td>2</td>\n",
       "      <td>22</td>\n",
       "    </tr>\n",
       "    <tr>\n",
       "      <th>808960</th>\n",
       "      <td>20083</td>\n",
       "      <td>2017</td>\n",
       "      <td>1</td>\n",
       "      <td>62.79</td>\n",
       "      <td>1</td>\n",
       "      <td>17</td>\n",
       "    </tr>\n",
       "    <tr>\n",
       "      <th>808961</th>\n",
       "      <td>23088</td>\n",
       "      <td>2017</td>\n",
       "      <td>1</td>\n",
       "      <td>12.38</td>\n",
       "      <td>1</td>\n",
       "      <td>3</td>\n",
       "    </tr>\n",
       "    <tr>\n",
       "      <th>808962</th>\n",
       "      <td>10757</td>\n",
       "      <td>2017</td>\n",
       "      <td>1</td>\n",
       "      <td>1.79</td>\n",
       "      <td>1</td>\n",
       "      <td>1</td>\n",
       "    </tr>\n",
       "    <tr>\n",
       "      <th>808963</th>\n",
       "      <td>16826</td>\n",
       "      <td>2017</td>\n",
       "      <td>1</td>\n",
       "      <td>56.13</td>\n",
       "      <td>1</td>\n",
       "      <td>18</td>\n",
       "    </tr>\n",
       "  </tbody>\n",
       "</table>\n",
       "<p>808964 rows × 6 columns</p>\n",
       "</div>"
      ],
      "text/plain": [
       "        card_no  year  month  tot_spend  no_trans  no_items\n",
       "0         50449  2010      1     513.41         5       179\n",
       "1         14022  2010      1     483.63         3       107\n",
       "2         16606  2010      1     916.61         4       211\n",
       "3         12225  2010      1     131.86         2        59\n",
       "4         30454  2010      1     371.76         7       102\n",
       "...         ...   ...    ...        ...       ...       ...\n",
       "808959    12262  2017      1      66.62         2        22\n",
       "808960    20083  2017      1      62.79         1        17\n",
       "808961    23088  2017      1      12.38         1         3\n",
       "808962    10757  2017      1       1.79         1         1\n",
       "808963    16826  2017      1      56.13         1        18\n",
       "\n",
       "[808964 rows x 6 columns]"
      ]
     },
     "execution_count": 31,
     "metadata": {},
     "output_type": "execute_result"
    }
   ],
   "source": [
    "sales_by_owner_ym"
   ]
  },
  {
   "cell_type": "markdown",
   "id": "a98342dc",
   "metadata": {},
   "source": [
    "## Query 3\n",
    "Sales by product description by year by month: A file that has the following columns: upc, description, department number, department name, year, month, sales, transactions, and items.\n"
   ]
  },
  {
   "cell_type": "code",
   "execution_count": 15,
   "id": "c4660b7f",
   "metadata": {},
   "outputs": [],
   "source": [
    "df = pd.read_csv('department_lookup.csv')"
   ]
  },
  {
   "cell_type": "code",
   "execution_count": 23,
   "id": "97f690e5",
   "metadata": {},
   "outputs": [],
   "source": [
    "df['department'] = df['department'].astype('str')"
   ]
  },
  {
   "cell_type": "code",
   "execution_count": 24,
   "id": "5eae288d",
   "metadata": {},
   "outputs": [
    {
     "name": "stderr",
     "output_type": "stream",
     "text": [
      "100%|██████████████████████████████████████████| 1/1 [00:00<00:00, 12018.06it/s]\n"
     ]
    }
   ],
   "source": [
    "# Your code here\n",
    "table_name = 'department_lookup'\n",
    "table_id = \".\".join([gbq_proj_id,dataset_id,table_name])\n",
    "pandas_gbq.to_gbq(df, table_id, project_id=gbq_proj_id,if_exists=\"replace\") # beam it up scotty"
   ]
  },
  {
   "cell_type": "code",
   "execution_count": 32,
   "id": "3795d65c",
   "metadata": {},
   "outputs": [
    {
     "name": "stderr",
     "output_type": "stream",
     "text": [
      "Downloading: 100%|███████████████| 1185698/1185698 [01:16<00:00, 15401.60rows/s]\n"
     ]
    }
   ],
   "source": [
    "query3 = \"\"\"\n",
    "            SELECT upc,\n",
    "                transacts.description as prod_descript,\n",
    "                transacts.department as departments,\n",
    "                deptlu.dept_name as dept_name,\n",
    "                EXTRACT(YEAR FROM transacts.datetime) as year,\n",
    "                EXTRACT(MONTH FROM transacts.datetime) as month,\n",
    "                SUM(transacts.total) as tot_spend,\n",
    "                  COUNT(DISTINCT Concat(\n",
    "                  cast(EXTRACT(date FROM datetime) as string), \n",
    "                  cast(register_no as string), \n",
    "                  cast(emp_no as string), \n",
    "                  (cast(trans_no as string)))) as no_trans, \n",
    "                SUM(CASE WHEN trans_status in ('V','R') THEN -1\n",
    "                  ELSE 1 \n",
    "                    END) AS no_items\n",
    "              FROM `albee-msba.wedge_msba.transArchive_*` transacts\n",
    "               LEFT JOIN `albee-msba.wedge_msba.department_lookup` deptlu \n",
    "                 USING (department)\n",
    "              WHERE transacts.department != '0'\n",
    "                  AND transacts.department != '15'\n",
    "                  AND (trans_status is NULL or\n",
    "                    trans_status in (' ', 'V','R'))\n",
    "              GROUP BY prod_descript, year, month, upc, departments, deptlu.dept_name\n",
    "              ORDER BY tot_spend DESC;\n",
    "\n",
    "\"\"\"\n",
    "sales_by_prod_year_month = pandas_gbq.read_gbq(query3,project_id = gbq_proj_id)\n"
   ]
  },
  {
   "cell_type": "code",
   "execution_count": 33,
   "id": "bd06c8be",
   "metadata": {},
   "outputs": [
    {
     "data": {
      "text/html": [
       "<div>\n",
       "<style scoped>\n",
       "    .dataframe tbody tr th:only-of-type {\n",
       "        vertical-align: middle;\n",
       "    }\n",
       "\n",
       "    .dataframe tbody tr th {\n",
       "        vertical-align: top;\n",
       "    }\n",
       "\n",
       "    .dataframe thead th {\n",
       "        text-align: right;\n",
       "    }\n",
       "</style>\n",
       "<table border=\"1\" class=\"dataframe\">\n",
       "  <thead>\n",
       "    <tr style=\"text-align: right;\">\n",
       "      <th></th>\n",
       "      <th>upc</th>\n",
       "      <th>prod_descript</th>\n",
       "      <th>departments</th>\n",
       "      <th>dept_name</th>\n",
       "      <th>year</th>\n",
       "      <th>month</th>\n",
       "      <th>tot_spend</th>\n",
       "      <th>no_trans</th>\n",
       "      <th>no_items</th>\n",
       "    </tr>\n",
       "  </thead>\n",
       "  <tbody>\n",
       "    <tr>\n",
       "      <th>0</th>\n",
       "      <td>0</td>\n",
       "      <td>Change</td>\n",
       "      <td>0.0</td>\n",
       "      <td>None</td>\n",
       "      <td>2015</td>\n",
       "      <td>3</td>\n",
       "      <td>174023.01</td>\n",
       "      <td>86686</td>\n",
       "      <td>86948</td>\n",
       "    </tr>\n",
       "    <tr>\n",
       "      <th>1</th>\n",
       "      <td>0</td>\n",
       "      <td>Change</td>\n",
       "      <td>0.0</td>\n",
       "      <td>None</td>\n",
       "      <td>2015</td>\n",
       "      <td>2</td>\n",
       "      <td>161915.29</td>\n",
       "      <td>71809</td>\n",
       "      <td>72010</td>\n",
       "    </tr>\n",
       "    <tr>\n",
       "      <th>2</th>\n",
       "      <td>0</td>\n",
       "      <td>Change</td>\n",
       "      <td>0.0</td>\n",
       "      <td>None</td>\n",
       "      <td>2015</td>\n",
       "      <td>1</td>\n",
       "      <td>156136.09</td>\n",
       "      <td>72168</td>\n",
       "      <td>72448</td>\n",
       "    </tr>\n",
       "    <tr>\n",
       "      <th>3</th>\n",
       "      <td>0</td>\n",
       "      <td>Change</td>\n",
       "      <td>0.0</td>\n",
       "      <td>None</td>\n",
       "      <td>2015</td>\n",
       "      <td>10</td>\n",
       "      <td>151227.12</td>\n",
       "      <td>82567</td>\n",
       "      <td>82852</td>\n",
       "    </tr>\n",
       "    <tr>\n",
       "      <th>4</th>\n",
       "      <td>TAX</td>\n",
       "      <td>Tax</td>\n",
       "      <td>0.0</td>\n",
       "      <td>None</td>\n",
       "      <td>2015</td>\n",
       "      <td>3</td>\n",
       "      <td>51388.53</td>\n",
       "      <td>86686</td>\n",
       "      <td>86948</td>\n",
       "    </tr>\n",
       "    <tr>\n",
       "      <th>...</th>\n",
       "      <td>...</td>\n",
       "      <td>...</td>\n",
       "      <td>...</td>\n",
       "      <td>...</td>\n",
       "      <td>...</td>\n",
       "      <td>...</td>\n",
       "      <td>...</td>\n",
       "      <td>...</td>\n",
       "      <td>...</td>\n",
       "    </tr>\n",
       "    <tr>\n",
       "      <th>1185693</th>\n",
       "      <td>0</td>\n",
       "      <td>Cash</td>\n",
       "      <td>0.0</td>\n",
       "      <td>None</td>\n",
       "      <td>2015</td>\n",
       "      <td>3</td>\n",
       "      <td>-559807.45</td>\n",
       "      <td>23755</td>\n",
       "      <td>23828</td>\n",
       "    </tr>\n",
       "    <tr>\n",
       "      <th>1185694</th>\n",
       "      <td>0</td>\n",
       "      <td>Credit Card</td>\n",
       "      <td>0.0</td>\n",
       "      <td>None</td>\n",
       "      <td>2015</td>\n",
       "      <td>2</td>\n",
       "      <td>-2054993.21</td>\n",
       "      <td>50771</td>\n",
       "      <td>51404</td>\n",
       "    </tr>\n",
       "    <tr>\n",
       "      <th>1185695</th>\n",
       "      <td>0</td>\n",
       "      <td>Credit Card</td>\n",
       "      <td>0.0</td>\n",
       "      <td>None</td>\n",
       "      <td>2015</td>\n",
       "      <td>10</td>\n",
       "      <td>-2085196.04</td>\n",
       "      <td>57698</td>\n",
       "      <td>58363</td>\n",
       "    </tr>\n",
       "    <tr>\n",
       "      <th>1185696</th>\n",
       "      <td>0</td>\n",
       "      <td>Credit Card</td>\n",
       "      <td>0.0</td>\n",
       "      <td>None</td>\n",
       "      <td>2015</td>\n",
       "      <td>1</td>\n",
       "      <td>-2230659.52</td>\n",
       "      <td>51444</td>\n",
       "      <td>52186</td>\n",
       "    </tr>\n",
       "    <tr>\n",
       "      <th>1185697</th>\n",
       "      <td>0</td>\n",
       "      <td>Credit Card</td>\n",
       "      <td>0.0</td>\n",
       "      <td>None</td>\n",
       "      <td>2015</td>\n",
       "      <td>3</td>\n",
       "      <td>-2284340.27</td>\n",
       "      <td>60747</td>\n",
       "      <td>61451</td>\n",
       "    </tr>\n",
       "  </tbody>\n",
       "</table>\n",
       "<p>1185698 rows × 9 columns</p>\n",
       "</div>"
      ],
      "text/plain": [
       "         upc prod_descript departments dept_name  year  month   tot_spend  \\\n",
       "0          0        Change         0.0      None  2015      3   174023.01   \n",
       "1          0        Change         0.0      None  2015      2   161915.29   \n",
       "2          0        Change         0.0      None  2015      1   156136.09   \n",
       "3          0        Change         0.0      None  2015     10   151227.12   \n",
       "4        TAX           Tax         0.0      None  2015      3    51388.53   \n",
       "...      ...           ...         ...       ...   ...    ...         ...   \n",
       "1185693    0          Cash         0.0      None  2015      3  -559807.45   \n",
       "1185694    0   Credit Card         0.0      None  2015      2 -2054993.21   \n",
       "1185695    0   Credit Card         0.0      None  2015     10 -2085196.04   \n",
       "1185696    0   Credit Card         0.0      None  2015      1 -2230659.52   \n",
       "1185697    0   Credit Card         0.0      None  2015      3 -2284340.27   \n",
       "\n",
       "         no_trans  no_items  \n",
       "0           86686     86948  \n",
       "1           71809     72010  \n",
       "2           72168     72448  \n",
       "3           82567     82852  \n",
       "4           86686     86948  \n",
       "...           ...       ...  \n",
       "1185693     23755     23828  \n",
       "1185694     50771     51404  \n",
       "1185695     57698     58363  \n",
       "1185696     51444     52186  \n",
       "1185697     60747     61451  \n",
       "\n",
       "[1185698 rows x 9 columns]"
      ]
     },
     "execution_count": 33,
     "metadata": {},
     "output_type": "execute_result"
    }
   ],
   "source": [
    "sales_by_prod_year_month"
   ]
  },
  {
   "cell_type": "markdown",
   "id": "5a23e5d7",
   "metadata": {},
   "source": [
    "## Filling DB\n",
    "Here we will populate our SQLite3 data base with our tables by Query per instructions. "
   ]
  },
  {
   "cell_type": "code",
   "execution_count": 36,
   "id": "9bb05533",
   "metadata": {},
   "outputs": [],
   "source": [
    "db_wedge = sqlite3.connect(\"wedge_summary.db\")\n",
    "\n",
    "cur = db_wedge.cursor()"
   ]
  },
  {
   "cell_type": "code",
   "execution_count": 37,
   "id": "267276bd",
   "metadata": {},
   "outputs": [
    {
     "data": {
      "text/plain": [
       "39334"
      ]
     },
     "execution_count": 37,
     "metadata": {},
     "output_type": "execute_result"
    }
   ],
   "source": [
    "#table to db\n",
    "sales_date_hour.to_sql(name='query1',con = db_wedge)"
   ]
  },
  {
   "cell_type": "code",
   "execution_count": 38,
   "id": "eda3f8ff",
   "metadata": {},
   "outputs": [
    {
     "data": {
      "text/plain": [
       "808964"
      ]
     },
     "execution_count": 38,
     "metadata": {},
     "output_type": "execute_result"
    }
   ],
   "source": [
    "sales_by_owner_ym.to_sql(name='query2',con = db_wedge)"
   ]
  },
  {
   "cell_type": "code",
   "execution_count": 39,
   "id": "3b54ef0e",
   "metadata": {},
   "outputs": [
    {
     "data": {
      "text/plain": [
       "1185698"
      ]
     },
     "execution_count": 39,
     "metadata": {},
     "output_type": "execute_result"
    }
   ],
   "source": [
    "sales_by_prod_year_month.to_sql(name='query3',con = db_wedge)"
   ]
  },
  {
   "cell_type": "code",
   "execution_count": 40,
   "id": "7aad41d5",
   "metadata": {},
   "outputs": [],
   "source": [
    "#close connection\n",
    "cur.close() "
   ]
  },
  {
   "cell_type": "code",
   "execution_count": 42,
   "id": "d4ae37fd",
   "metadata": {},
   "outputs": [],
   "source": [
    "#db close here \n",
    "db_wedge.close() "
   ]
  }
 ],
 "metadata": {
  "kernelspec": {
   "display_name": "Python 3 (ipykernel)",
   "language": "python",
   "name": "python3"
  },
  "language_info": {
   "codemirror_mode": {
    "name": "ipython",
    "version": 3
   },
   "file_extension": ".py",
   "mimetype": "text/x-python",
   "name": "python",
   "nbconvert_exporter": "python",
   "pygments_lexer": "ipython3",
   "version": "3.9.12"
  }
 },
 "nbformat": 4,
 "nbformat_minor": 5
}
