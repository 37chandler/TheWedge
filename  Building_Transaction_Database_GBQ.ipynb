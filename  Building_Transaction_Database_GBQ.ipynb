{
 "cells": [
  {
   "cell_type": "markdown",
   "id": "4b5c2ca5",
   "metadata": {},
   "source": [
    "# Task 1: Building a Transaction Database in Google Big Query\n",
    "\n",
    "\n",
    "## In this task you’ll upload all Wedge transaction records to Google Big Query. You’ll want to make sure that the column data types are correctly specified and you’ve properly handled the null values. \n",
    "\n",
    "\n",
    "Note: this assignment can be done manually or programmatically. Naturally I’d prefer it be done programmatically so that you get more practice, but that’s not required to get full credit. \n"
   ]
  },
  {
   "cell_type": "code",
   "execution_count": 1,
   "id": "7b06372f",
   "metadata": {},
   "outputs": [],
   "source": [
    "#import packages and libraries\n",
    "import os\n",
    "import re\n",
    "import io\n",
    "import datetime\n",
    "import sqlite3\n",
    "import csv\n",
    "\n",
    "import pandas as pd\n",
    "import numpy as np\n",
    "import matplotlib.pyplot as plt\n",
    "import pandas_gbq\n",
    "import janitor\n",
    "import pprint\n",
    "\n",
    "import zipfile\n",
    "from zipfile import ZipFile\n",
    "\n",
    "# Google Big Query \n",
    "from google.cloud import bigquery\n",
    "from google.oauth2 import service_account"
   ]
  },
  {
   "cell_type": "code",
   "execution_count": 14,
   "id": "2e25433b",
   "metadata": {},
   "outputs": [],
   "source": [
    "#Set Paths for GBQ\n",
    "service_path = \"/Users/meganalbee/Desktop/ADA/key/\"\n",
    "service_file = 'albee-msba-4037d70faf07.json' # My Key   \n",
    "gbq_proj_id = 'albee-msba' # My GBQ \n",
    "dataset_id = 'wedge_msba' #Set to the Wedge\n",
    "\n",
    "#Private Key. Do not change. \n",
    "private_key = service_path + service_file"
   ]
  },
  {
   "cell_type": "code",
   "execution_count": 15,
   "id": "e53e492a",
   "metadata": {},
   "outputs": [],
   "source": [
    "# Pass in our credentials so that Python has permission to access our project\n",
    "credentials = service_account.Credentials.from_service_account_file(service_path + service_file)"
   ]
  },
  {
   "cell_type": "code",
   "execution_count": 16,
   "id": "99491414",
   "metadata": {},
   "outputs": [],
   "source": [
    "# Establish our connection\n",
    "client = bigquery.Client(credentials = credentials, project=gbq_proj_id)"
   ]
  },
  {
   "cell_type": "markdown",
   "id": "c08e4c4c",
   "metadata": {},
   "source": [
    "## Check dataset and proj in GBQ"
   ]
  },
  {
   "cell_type": "code",
   "execution_count": 17,
   "id": "6af8e1d7",
   "metadata": {},
   "outputs": [
    {
     "name": "stdout",
     "output_type": "stream",
     "text": [
      "albee-msba:dram_shop\n",
      "albee-msba:wedge_msba\n"
     ]
    }
   ],
   "source": [
    "for item in client.list_datasets() : \n",
    "    print(item.full_dataset_id)"
   ]
  },
  {
   "cell_type": "code",
   "execution_count": 6,
   "id": "7f56dc70",
   "metadata": {},
   "outputs": [],
   "source": [
    "tables = client.list_tables(dataset_id)  \n",
    "\n",
    "for table in tables:\n",
    "    if table :\n",
    "        print(table.table_id)"
   ]
  },
  {
   "cell_type": "code",
   "execution_count": 7,
   "id": "65c23055",
   "metadata": {},
   "outputs": [],
   "source": [
    "file_pattern = re.compile(r\"(\\D{12})\")"
   ]
  },
  {
   "cell_type": "code",
   "execution_count": 8,
   "id": "2662139f",
   "metadata": {},
   "outputs": [],
   "source": [
    "#This will delete out the dataset for every table that matches\n",
    "for table in client.list_tables(dataset_id) :\n",
    "    if file_pattern.search(table.table_id) :\n",
    "        table_id = \".\".join([gbq_proj_id,dataset_id,table.table_id])\n",
    "        client.delete_table(table_id, not_found_ok=True)\n",
    "        \n",
    "        print(f\"Deleted {table.table_id}.\")"
   ]
  },
  {
   "cell_type": "markdown",
   "id": "f99e2bd8",
   "metadata": {},
   "source": [
    "## Extract, Clean and Upload Files"
   ]
  },
  {
   "cell_type": "code",
   "execution_count": 9,
   "id": "c6ad2b49",
   "metadata": {},
   "outputs": [],
   "source": [
    "#Setting Headers. Based on Previous EDA. \n",
    "headers = ['\"datetime\"', '\"register_no\"', '\"emp_no\"', '\"trans_no\"', '\"upc\"', '\"description\"', '\"trans_type\"', '\"trans_subtype\"', '\"trans_status\"', '\"department\"', '\"quantity\"', '\"Scale\"', '\"cost\"', '\"unitPrice\"', '\"total\"', '\"regPrice\"', '\"altPrice\"', '\"tax\"', '\"taxexempt\"', '\"foodstamp\"', '\"wicable\"', '\"discount\"', '\"memDiscount\"', '\"discountable\"', '\"discounttype\"', '\"voided\"', '\"percentDiscount\"', '\"ItemQtty\"', '\"volDiscType\"', '\"volume\"', '\"VolSpecial\"', '\"mixMatch\"', '\"matched\"', '\"memType\"', '\"staff\"', '\"numflag\"', '\"itemstatus\"', '\"tenderstatus\"', '\"charflag\"', '\"varflag\"', '\"batchHeaderID\"', '\"local\"', '\"organic\"', '\"display\"', '\"receipt\"', '\"card_no\"', '\"store\"', '\"branch\"', '\"match_id\"', '\"trans_id\"']"
   ]
  },
  {
   "cell_type": "code",
   "execution_count": 10,
   "id": "3b323814",
   "metadata": {},
   "outputs": [],
   "source": [
    "#cleaning through headers \n",
    "#This will be the header rows for files with no headers\n",
    "clean_headers = [i.replace('\"', '') for i in headers]"
   ]
  },
  {
   "cell_type": "code",
   "execution_count": 11,
   "id": "aa1c9e79",
   "metadata": {},
   "outputs": [],
   "source": [
    "#set os \n",
    "zip_files = os.listdir(\"WedgeZipOfZips/\")"
   ]
  },
  {
   "cell_type": "code",
   "execution_count": null,
   "id": "34511b22",
   "metadata": {},
   "outputs": [],
   "source": []
  },
  {
   "cell_type": "code",
   "execution_count": 13,
   "id": "93be0ab5",
   "metadata": {},
   "outputs": [
    {
     "name": "stderr",
     "output_type": "stream",
     "text": [
      "100%|███████████████████████████████████████████| 1/1 [00:00<00:00, 2183.40it/s]\n",
      "/var/folders/np/jf6g_y1x1936njwpvh79lbmc0000gn/T/ipykernel_21771/2811956891.py:23: DtypeWarning: Columns (33,42) have mixed types. Specify dtype option on import or set low_memory=False.\n",
      "  df = pd.read_csv(input_file, sep = delimiters[file_name], names = clean_headers, encoding=\"utf-8\")\n",
      "100%|███████████████████████████████████████████| 1/1 [00:00<00:00, 4634.59it/s]\n",
      "/var/folders/np/jf6g_y1x1936njwpvh79lbmc0000gn/T/ipykernel_21771/2811956891.py:23: DtypeWarning: Columns (33) have mixed types. Specify dtype option on import or set low_memory=False.\n",
      "  df = pd.read_csv(input_file, sep = delimiters[file_name], names = clean_headers, encoding=\"utf-8\")\n",
      "100%|███████████████████████████████████████████| 1/1 [00:00<00:00, 3819.95it/s]\n",
      "/var/folders/np/jf6g_y1x1936njwpvh79lbmc0000gn/T/ipykernel_21771/2811956891.py:23: DtypeWarning: Columns (18,36,37,41,43,44,48) have mixed types. Specify dtype option on import or set low_memory=False.\n",
      "  df = pd.read_csv(input_file, sep = delimiters[file_name], names = clean_headers, encoding=\"utf-8\")\n",
      "100%|███████████████████████████████████████████| 1/1 [00:00<00:00, 9709.04it/s]\n",
      "/var/folders/np/jf6g_y1x1936njwpvh79lbmc0000gn/T/ipykernel_21771/2811956891.py:23: DtypeWarning: Columns (18,36,37,41,43,44,48) have mixed types. Specify dtype option on import or set low_memory=False.\n",
      "  df = pd.read_csv(input_file, sep = delimiters[file_name], names = clean_headers, encoding=\"utf-8\")\n",
      "100%|███████████████████████████████████████████| 1/1 [00:00<00:00, 3483.64it/s]\n",
      "100%|███████████████████████████████████████████| 1/1 [00:00<00:00, 3236.35it/s]\n",
      "/var/folders/np/jf6g_y1x1936njwpvh79lbmc0000gn/T/ipykernel_21771/2811956891.py:23: DtypeWarning: Columns (33) have mixed types. Specify dtype option on import or set low_memory=False.\n",
      "  df = pd.read_csv(input_file, sep = delimiters[file_name], names = clean_headers, encoding=\"utf-8\")\n",
      "100%|███████████████████████████████████████████| 1/1 [00:00<00:00, 2236.96it/s]\n",
      "100%|███████████████████████████████████████████| 1/1 [00:00<00:00, 2178.86it/s]\n",
      "/var/folders/np/jf6g_y1x1936njwpvh79lbmc0000gn/T/ipykernel_21771/2811956891.py:23: DtypeWarning: Columns (33) have mixed types. Specify dtype option on import or set low_memory=False.\n",
      "  df = pd.read_csv(input_file, sep = delimiters[file_name], names = clean_headers, encoding=\"utf-8\")\n",
      "100%|███████████████████████████████████████████| 1/1 [00:00<00:00, 2849.39it/s]\n",
      "/var/folders/np/jf6g_y1x1936njwpvh79lbmc0000gn/T/ipykernel_21771/2811956891.py:23: DtypeWarning: Columns (33,43) have mixed types. Specify dtype option on import or set low_memory=False.\n",
      "  df = pd.read_csv(input_file, sep = delimiters[file_name], names = clean_headers, encoding=\"utf-8\")\n",
      "100%|███████████████████████████████████████████| 1/1 [00:00<00:00, 2041.02it/s]\n",
      "/var/folders/np/jf6g_y1x1936njwpvh79lbmc0000gn/T/ipykernel_21771/2811956891.py:23: DtypeWarning: Columns (33,43) have mixed types. Specify dtype option on import or set low_memory=False.\n",
      "  df = pd.read_csv(input_file, sep = delimiters[file_name], names = clean_headers, encoding=\"utf-8\")\n",
      "100%|███████████████████████████████████████████| 1/1 [00:00<00:00, 2012.62it/s]\n",
      "100%|███████████████████████████████████████████| 1/1 [00:00<00:00, 3609.56it/s]\n",
      "/var/folders/np/jf6g_y1x1936njwpvh79lbmc0000gn/T/ipykernel_21771/2811956891.py:23: DtypeWarning: Columns (33,42) have mixed types. Specify dtype option on import or set low_memory=False.\n",
      "  df = pd.read_csv(input_file, sep = delimiters[file_name], names = clean_headers, encoding=\"utf-8\")\n",
      "100%|███████████████████████████████████████████| 1/1 [00:00<00:00, 4588.95it/s]\n",
      "/var/folders/np/jf6g_y1x1936njwpvh79lbmc0000gn/T/ipykernel_21771/2811956891.py:23: DtypeWarning: Columns (42) have mixed types. Specify dtype option on import or set low_memory=False.\n",
      "  df = pd.read_csv(input_file, sep = delimiters[file_name], names = clean_headers, encoding=\"utf-8\")\n",
      "100%|██████████████████████████████████████████| 1/1 [00:00<00:00, 10205.12it/s]\n",
      "100%|███████████████████████████████████████████| 1/1 [00:00<00:00, 2369.66it/s]\n",
      "/var/folders/np/jf6g_y1x1936njwpvh79lbmc0000gn/T/ipykernel_21771/2811956891.py:23: DtypeWarning: Columns (33) have mixed types. Specify dtype option on import or set low_memory=False.\n",
      "  df = pd.read_csv(input_file, sep = delimiters[file_name], names = clean_headers, encoding=\"utf-8\")\n",
      "100%|███████████████████████████████████████████| 1/1 [00:00<00:00, 2597.09it/s]\n",
      "100%|███████████████████████████████████████████| 1/1 [00:00<00:00, 2222.74it/s]\n",
      "/var/folders/np/jf6g_y1x1936njwpvh79lbmc0000gn/T/ipykernel_21771/2811956891.py:23: DtypeWarning: Columns (33) have mixed types. Specify dtype option on import or set low_memory=False.\n",
      "  df = pd.read_csv(input_file, sep = delimiters[file_name], names = clean_headers, encoding=\"utf-8\")\n",
      "100%|███████████████████████████████████████████| 1/1 [00:00<00:00, 2427.26it/s]\n",
      "100%|███████████████████████████████████████████| 1/1 [00:00<00:00, 2880.70it/s]\n",
      "/var/folders/np/jf6g_y1x1936njwpvh79lbmc0000gn/T/ipykernel_21771/2811956891.py:23: DtypeWarning: Columns (33) have mixed types. Specify dtype option on import or set low_memory=False.\n",
      "  df = pd.read_csv(input_file, sep = delimiters[file_name], names = clean_headers, encoding=\"utf-8\")\n",
      "100%|███████████████████████████████████████████| 1/1 [00:00<00:00, 2353.71it/s]\n",
      "/var/folders/np/jf6g_y1x1936njwpvh79lbmc0000gn/T/ipykernel_21771/2811956891.py:23: DtypeWarning: Columns (42) have mixed types. Specify dtype option on import or set low_memory=False.\n",
      "  df = pd.read_csv(input_file, sep = delimiters[file_name], names = clean_headers, encoding=\"utf-8\")\n",
      "100%|███████████████████████████████████████████| 1/1 [00:00<00:00, 8473.34it/s]\n",
      "100%|███████████████████████████████████████████| 1/1 [00:00<00:00, 3923.58it/s]\n",
      "/var/folders/np/jf6g_y1x1936njwpvh79lbmc0000gn/T/ipykernel_21771/2811956891.py:23: DtypeWarning: Columns (33,43) have mixed types. Specify dtype option on import or set low_memory=False.\n",
      "  df = pd.read_csv(input_file, sep = delimiters[file_name], names = clean_headers, encoding=\"utf-8\")\n",
      "100%|███████████████████████████████████████████| 1/1 [00:00<00:00, 2592.28it/s]\n",
      "100%|███████████████████████████████████████████| 1/1 [00:00<00:00, 4905.62it/s]\n",
      "100%|███████████████████████████████████████████| 1/1 [00:00<00:00, 2794.34it/s]\n",
      "/var/folders/np/jf6g_y1x1936njwpvh79lbmc0000gn/T/ipykernel_21771/2811956891.py:23: DtypeWarning: Columns (18,36,37,41,43,44,48) have mixed types. Specify dtype option on import or set low_memory=False.\n",
      "  df = pd.read_csv(input_file, sep = delimiters[file_name], names = clean_headers, encoding=\"utf-8\")\n",
      "100%|███████████████████████████████████████████| 1/1 [00:00<00:00, 2618.17it/s]\n",
      "100%|███████████████████████████████████████████| 1/1 [00:00<00:00, 9731.56it/s]\n",
      "100%|███████████████████████████████████████████| 1/1 [00:00<00:00, 8192.00it/s]\n",
      "100%|███████████████████████████████████████████| 1/1 [00:00<00:00, 3858.61it/s]\n",
      "100%|███████████████████████████████████████████| 1/1 [00:00<00:00, 4524.60it/s]\n",
      "/var/folders/np/jf6g_y1x1936njwpvh79lbmc0000gn/T/ipykernel_21771/2811956891.py:23: DtypeWarning: Columns (42) have mixed types. Specify dtype option on import or set low_memory=False.\n",
      "  df = pd.read_csv(input_file, sep = delimiters[file_name], names = clean_headers, encoding=\"utf-8\")\n",
      "100%|███████████████████████████████████████████| 1/1 [00:00<00:00, 3366.22it/s]\n",
      "100%|███████████████████████████████████████████| 1/1 [00:00<00:00, 7463.17it/s]\n",
      "100%|███████████████████████████████████████████| 1/1 [00:00<00:00, 3236.35it/s]\n",
      "/var/folders/np/jf6g_y1x1936njwpvh79lbmc0000gn/T/ipykernel_21771/2811956891.py:23: DtypeWarning: Columns (18,36,37,41,43,44,48) have mixed types. Specify dtype option on import or set low_memory=False.\n",
      "  df = pd.read_csv(input_file, sep = delimiters[file_name], names = clean_headers, encoding=\"utf-8\")\n",
      "100%|███████████████████████████████████████████| 1/1 [00:00<00:00, 3705.22it/s]\n",
      "100%|███████████████████████████████████████████| 1/1 [00:00<00:00, 4096.00it/s]\n",
      "100%|███████████████████████████████████████████| 1/1 [00:00<00:00, 3144.16it/s]\n"
     ]
    },
    {
     "name": "stderr",
     "output_type": "stream",
     "text": [
      "100%|████████████████████████████████████████████| 1/1 [00:00<00:00, 753.42it/s]\n",
      "/var/folders/np/jf6g_y1x1936njwpvh79lbmc0000gn/T/ipykernel_21771/2811956891.py:23: DtypeWarning: Columns (33,42) have mixed types. Specify dtype option on import or set low_memory=False.\n",
      "  df = pd.read_csv(input_file, sep = delimiters[file_name], names = clean_headers, encoding=\"utf-8\")\n",
      "100%|███████████████████████████████████████████| 1/1 [00:00<00:00, 3625.15it/s]\n",
      "100%|██████████████████████████████████████████| 1/1 [00:00<00:00, 11491.24it/s]\n",
      "100%|███████████████████████████████████████████| 1/1 [00:00<00:00, 2531.26it/s]\n",
      "100%|███████████████████████████████████████████| 1/1 [00:00<00:00, 2221.56it/s]\n",
      "100%|███████████████████████████████████████████| 1/1 [00:00<00:00, 3919.91it/s]\n",
      "100%|███████████████████████████████████████████| 1/1 [00:00<00:00, 3184.74it/s]\n",
      "/var/folders/np/jf6g_y1x1936njwpvh79lbmc0000gn/T/ipykernel_21771/2811956891.py:23: DtypeWarning: Columns (33,42) have mixed types. Specify dtype option on import or set low_memory=False.\n",
      "  df = pd.read_csv(input_file, sep = delimiters[file_name], names = clean_headers, encoding=\"utf-8\")\n",
      "100%|███████████████████████████████████████████| 1/1 [00:00<00:00, 3426.72it/s]\n",
      "/var/folders/np/jf6g_y1x1936njwpvh79lbmc0000gn/T/ipykernel_21771/2811956891.py:23: DtypeWarning: Columns (18,36,37,41,43,44,48) have mixed types. Specify dtype option on import or set low_memory=False.\n",
      "  df = pd.read_csv(input_file, sep = delimiters[file_name], names = clean_headers, encoding=\"utf-8\")\n",
      "100%|███████████████████████████████████████████| 1/1 [00:00<00:00, 4485.89it/s]\n",
      "100%|███████████████████████████████████████████| 1/1 [00:00<00:00, 3495.25it/s]\n",
      "/var/folders/np/jf6g_y1x1936njwpvh79lbmc0000gn/T/ipykernel_21771/2811956891.py:23: DtypeWarning: Columns (18,36,37,41,43,44,48) have mixed types. Specify dtype option on import or set low_memory=False.\n",
      "  df = pd.read_csv(input_file, sep = delimiters[file_name], names = clean_headers, encoding=\"utf-8\")\n",
      "100%|███████████████████████████████████████████| 1/1 [00:00<00:00, 4568.96it/s]\n",
      "100%|███████████████████████████████████████████| 1/1 [00:00<00:00, 3905.31it/s]\n",
      "/var/folders/np/jf6g_y1x1936njwpvh79lbmc0000gn/T/ipykernel_21771/2811956891.py:23: DtypeWarning: Columns (18,36,37,41,43,44,48) have mixed types. Specify dtype option on import or set low_memory=False.\n",
      "  df = pd.read_csv(input_file, sep = delimiters[file_name], names = clean_headers, encoding=\"utf-8\")\n",
      "100%|██████████████████████████████████████████| 1/1 [00:00<00:00, 11781.75it/s]\n",
      "100%|███████████████████████████████████████████| 1/1 [00:00<00:00, 3905.31it/s]\n",
      "/var/folders/np/jf6g_y1x1936njwpvh79lbmc0000gn/T/ipykernel_21771/2811956891.py:23: DtypeWarning: Columns (43) have mixed types. Specify dtype option on import or set low_memory=False.\n",
      "  df = pd.read_csv(input_file, sep = delimiters[file_name], names = clean_headers, encoding=\"utf-8\")\n",
      "100%|███████████████████████████████████████████| 1/1 [00:00<00:00, 2352.39it/s]\n",
      "/var/folders/np/jf6g_y1x1936njwpvh79lbmc0000gn/T/ipykernel_21771/2811956891.py:23: DtypeWarning: Columns (43) have mixed types. Specify dtype option on import or set low_memory=False.\n",
      "  df = pd.read_csv(input_file, sep = delimiters[file_name], names = clean_headers, encoding=\"utf-8\")\n",
      "100%|███████████████████████████████████████████| 1/1 [00:00<00:00, 7358.43it/s]\n",
      "/var/folders/np/jf6g_y1x1936njwpvh79lbmc0000gn/T/ipykernel_21771/2811956891.py:23: DtypeWarning: Columns (18,36,37,41,43,44,48) have mixed types. Specify dtype option on import or set low_memory=False.\n",
      "  df = pd.read_csv(input_file, sep = delimiters[file_name], names = clean_headers, encoding=\"utf-8\")\n",
      "100%|███████████████████████████████████████████| 1/1 [00:00<00:00, 1691.93it/s]\n"
     ]
    }
   ],
   "source": [
    "delimiters = dict()\n",
    "obj_columns = []\n",
    "\n",
    "for this_zf in zip_files : \n",
    "    with ZipFile(\"WedgeZipOfZips/\" + this_zf, 'r') as zf :\n",
    "        zipped_files_name = zf.namelist()\n",
    "        \n",
    "        for file_name in zipped_files_name :\n",
    "            input_file = zf.open(file_name,'r')\n",
    "            input_file = io.TextIOWrapper(input_file,encoding=\"utf-8\")\n",
    "            \n",
    "            dialect = csv.Sniffer().sniff(sample=input_file.readline(),\n",
    "                                      delimiters=[\",\",\";\",\"\\t\"])\n",
    "            \n",
    "            delimiters[file_name] = dialect.delimiter\n",
    "            \n",
    "            #if header, read in file. If no header, set the header to clean_headers\n",
    "            for line in input_file :\n",
    "                if line[0] == \"datetime\" :\n",
    "                    df = pd.read_csv(input_file, sep = delimiters[file_name], encoding=\"utf-8\")                \n",
    "               \n",
    "                else :\n",
    "                    df = pd.read_csv(input_file, sep = delimiters[file_name], names = clean_headers, encoding=\"utf-8\")                 \n",
    "                \n",
    "            \n",
    "\n",
    "                df = janitor.clean_names(df)\n",
    "#                 df = df.replace(np.nan, '', regex=True)\n",
    "                df['datetime'] = pd.to_datetime(df.datetime, format='%Y-%m-%d %H:%M:%S')\n",
    "                df['department'] = df['department'].astype(\"str\")\n",
    "                df.department = df.department.fillna('')\n",
    "# #                 df = df.loc[pd.isnull(df).any(1),:]\n",
    "# #                 df['trans_status'] = df['trans_status'].replace([\"''\"], \"' '\")\n",
    "#                 df['trans_status'] = df['trans_status'].str.replace(\"\",\" \")\n",
    "\n",
    "                #These columns throw errors in GBQ, created a list an enumerated\n",
    "                df[\"altprice\"] = df[\"altprice\"].astype(dtype = \"string\")\n",
    "                df[\"itemstatus\"] = df[\"itemstatus\"].astype(dtype = \"string\")\n",
    "                df[\"display\"] = df[\"display\"].astype(dtype = \"string\")\n",
    "                df[\"local\"] = df[\"local\"].astype(dtype = \"string\")\n",
    "                df[\"batchheaderid\"] = df[\"batchheaderid\"].astype(dtype = \"string\")\n",
    "                df[\"match_id\"] = df[\"match_id\"].astype(dtype = \"string\")\n",
    "                df[\"organic\"] = df[\"organic\"].astype(dtype = \"string\")\n",
    "                df[\"percentdiscount\"] = df[\"percentdiscount\"].astype(dtype = \"string\")\n",
    "                df[\"receipt\"] = df[\"receipt\"].astype(dtype = \"string\")\n",
    "                df[\"matched\"] = df[\"matched\"].astype(dtype = \"string\")\n",
    "                df[\"staff\"] = df[\"staff\"].astype(dtype = \"string\")\n",
    "                df[\"scale\"] = df[\"scale\"].astype(dtype = \"string\")\n",
    "                df[\"taxexempt\"] = df[\"taxexempt\"].astype(dtype = \"string\")\n",
    "                df[\"branch\"] = df[\"branch\"].astype(dtype = \"string\")\n",
    "                df[\"trans_id\"] = df[\"trans_id\"].astype(dtype = \"string\")\n",
    "                df[\"memtype\"] = df[\"memtype\"].astype(dtype = \"string\")\n",
    "                df[\"varflag\"] = df[\"varflag\"].astype(dtype = \"string\")\n",
    "                df[\"wicable\"] = df[\"wicable\"].astype(dtype = \"string\")\n",
    "                df[\"numflag\"] = df[\"numflag\"].astype(dtype = \"string\")\n",
    "                df[\"voided\"] = df[\"voided\"].astype(dtype = \"string\")\n",
    "                df[\"volume\"] = df[\"volume\"].astype(dtype = \"string\")\n",
    "                df[\"tax\"] = df[\"tax\"].astype(dtype = \"string\")\n",
    "                df[\"foodstamp\"] = df[\"foodstamp\"].astype(dtype = \"string\")\n",
    "                df[\"tenderstatus\"] = df[\"tenderstatus\"].astype(dtype = \"string\")\n",
    "\n",
    "                df['trans_status'] = df['trans_status'].astype(dtype = 'string')\n",
    "#                 df = df.trans_status.replace('',np.nan,regex = True)\n",
    "\n",
    "            \n",
    "                \n",
    " \n",
    "                for idx, column in enumerate(df) :\n",
    "                    if df[column].dtypes == \"object\" :        \n",
    "                        df = df.astype({column: 'str'})\n",
    "                    \n",
    "\n",
    "        \n",
    "               \n",
    "                table_name = file_name.replace('.csv','')\n",
    "                table_id = \".\".join([gbq_proj_id,dataset_id,table_name])\n",
    "                pandas_gbq.to_gbq(df, table_id, project_id=gbq_proj_id, if_exists=\"replace\")\n"
   ]
  },
  {
   "cell_type": "code",
   "execution_count": 14,
   "id": "95ac9664",
   "metadata": {},
   "outputs": [],
   "source": [
    "test = 'altprice, itemstatus, display, local, batchheaderid, match_id, organic, percentdiscount, receipt, matched, staff, scale, taxexempt, branch,tenderstatus, trans_id, memtype, varflag, wicable, numflag, voided, volume, tax, foodstamp'"
   ]
  },
  {
   "cell_type": "code",
   "execution_count": 15,
   "id": "a56067b4",
   "metadata": {
    "scrolled": true
   },
   "outputs": [],
   "source": [
    "test = test.split()"
   ]
  },
  {
   "cell_type": "code",
   "execution_count": 46,
   "id": "2004a3b2",
   "metadata": {
    "scrolled": true
   },
   "outputs": [
    {
     "name": "stdout",
     "output_type": "stream",
     "text": [
      "df[\"altprice,\"] = df[\"altprice,\"].astype(dtype = \"string\")\n",
      "df[\"itemstatus,\"] = df[\"itemstatus,\"].astype(dtype = \"string\")\n",
      "df[\"display,\"] = df[\"display,\"].astype(dtype = \"string\")\n",
      "df[\"local,\"] = df[\"local,\"].astype(dtype = \"string\")\n",
      "df[\"batchheaderid,\"] = df[\"batchheaderid,\"].astype(dtype = \"string\")\n",
      "df[\"match_id,\"] = df[\"match_id,\"].astype(dtype = \"string\")\n",
      "df[\"organic,\"] = df[\"organic,\"].astype(dtype = \"string\")\n",
      "df[\"percentdiscount,\"] = df[\"percentdiscount,\"].astype(dtype = \"string\")\n",
      "df[\"receipt,\"] = df[\"receipt,\"].astype(dtype = \"string\")\n",
      "df[\"matched,\"] = df[\"matched,\"].astype(dtype = \"string\")\n",
      "df[\"staff,\"] = df[\"staff,\"].astype(dtype = \"string\")\n",
      "df[\"scale,\"] = df[\"scale,\"].astype(dtype = \"string\")\n",
      "df[\"taxexempt,\"] = df[\"taxexempt,\"].astype(dtype = \"string\")\n",
      "df[\"branch,tenderstatus,\"] = df[\"branch,tenderstatus,\"].astype(dtype = \"string\")\n",
      "df[\"trans_id,\"] = df[\"trans_id,\"].astype(dtype = \"string\")\n",
      "df[\"memtype,\"] = df[\"memtype,\"].astype(dtype = \"string\")\n",
      "df[\"varflag,\"] = df[\"varflag,\"].astype(dtype = \"string\")\n",
      "df[\"wicable,\"] = df[\"wicable,\"].astype(dtype = \"string\")\n",
      "df[\"numflag,\"] = df[\"numflag,\"].astype(dtype = \"string\")\n",
      "df[\"voided,\"] = df[\"voided,\"].astype(dtype = \"string\")\n",
      "df[\"volume,\"] = df[\"volume,\"].astype(dtype = \"string\")\n",
      "df[\"tax,\"] = df[\"tax,\"].astype(dtype = \"string\")\n",
      "df[\"foodstamp\"] = df[\"foodstamp\"].astype(dtype = \"string\")\n"
     ]
    }
   ],
   "source": [
    "tm = []\n",
    "for idx, name in enumerate(test) :\n",
    "    \n",
    "    tm.append(f'df[\"{name}\"] = df[\"{name}\"].astype(dtype = \"string\")')\n",
    "    print(f'df[\"{name}\"] = df[\"{name}\"].astype(dtype = \"string\")')"
   ]
  },
  {
   "cell_type": "code",
   "execution_count": 45,
   "id": "632b7a0c",
   "metadata": {},
   "outputs": [
    {
     "data": {
      "text/plain": [
       "['df[\"altprice,\"] = df[\"altprice,\"].astype(dtype = \"string\")', 'df[\"itemstatus,\"] = df[\"itemstatus,\"].astype(dtype = \"string\")', 'df[\"display,\"] = df[\"display,\"].astype(dtype = \"string\")', 'df[\"local,\"] = df[\"local,\"].astype(dtype = \"string\")', 'df[\"batchheaderid,\"] = df[\"batchheaderid,\"].astype(dtype = \"string\")', 'df[\"match_id,\"] = df[\"match_id,\"].astype(dtype = \"string\")', 'df[\"organic,\"] = df[\"organic,\"].astype(dtype = \"string\")', 'df[\"percentdiscount,\"] = df[\"percentdiscount,\"].astype(dtype = \"string\")', 'df[\"receipt,\"] = df[\"receipt,\"].astype(dtype = \"string\")', 'df[\"matched,\"] = df[\"matched,\"].astype(dtype = \"string\")', 'df[\"staff,\"] = df[\"staff,\"].astype(dtype = \"string\")', 'df[\"scale,\"] = df[\"scale,\"].astype(dtype = \"string\")', 'df[\"taxexempt,\"] = df[\"taxexempt,\"].astype(dtype = \"string\")', 'df[\"branch,tenderstatus,\"] = df[\"branch,tenderstatus,\"].astype(dtype = \"string\")', 'df[\"trans_id,\"] = df[\"trans_id,\"].astype(dtype = \"string\")', 'df[\"memtype,\"] = df[\"memtype,\"].astype(dtype = \"string\")', 'df[\"varflag,\"] = df[\"varflag,\"].astype(dtype = \"string\")', 'df[\"wicable,\"] = df[\"wicable,\"].astype(dtype = \"string\")', 'df[\"numflag,\"] = df[\"numflag,\"].astype(dtype = \"string\")', 'df[\"voided,\"] = df[\"voided,\"].astype(dtype = \"string\")', 'df[\"volume,\"] = df[\"volume,\"].astype(dtype = \"string\")', 'df[\"tax,\"] = df[\"tax,\"].astype(dtype = \"string\")', 'df[\"foodstamp\"] = df[\"foodstamp\"].astype(dtype = \"string\")']"
      ]
     },
     "execution_count": 45,
     "metadata": {},
     "output_type": "execute_result"
    }
   ],
   "source": [
    "tm"
   ]
  },
  {
   "cell_type": "code",
   "execution_count": null,
   "id": "8de40e5a",
   "metadata": {},
   "outputs": [],
   "source": []
  },
  {
   "cell_type": "code",
   "execution_count": 26,
   "id": "2354648c",
   "metadata": {},
   "outputs": [],
   "source": [
    "tm = [i.replace(',', '') for i in tm]"
   ]
  },
  {
   "cell_type": "code",
   "execution_count": 40,
   "id": "98de0664",
   "metadata": {
    "collapsed": true
   },
   "outputs": [
    {
     "name": "stdout",
     "output_type": "stream",
     "text": [
      "here is copy ['df[\"altprice,\"] = df[\"altprice,\"].astype(dtype = \"string\")', 'df[\"itemstatus,\"] = df[\"itemstatus,\"].astype(dtype = \"string\")', 'df[\"display,\"] = df[\"display,\"].astype(dtype = \"string\")', 'df[\"local,\"] = df[\"local,\"].astype(dtype = \"string\")', 'df[\"batchheaderid,\"] = df[\"batchheaderid,\"].astype(dtype = \"string\")', 'df[\"match_id,\"] = df[\"match_id,\"].astype(dtype = \"string\")', 'df[\"organic,\"] = df[\"organic,\"].astype(dtype = \"string\")', 'df[\"percentdiscount,\"] = df[\"percentdiscount,\"].astype(dtype = \"string\")', 'df[\"receipt,\"] = df[\"receipt,\"].astype(dtype = \"string\")', 'df[\"matched,\"] = df[\"matched,\"].astype(dtype = \"string\")', 'df[\"staff,\"] = df[\"staff,\"].astype(dtype = \"string\")', 'df[\"scale,\"] = df[\"scale,\"].astype(dtype = \"string\")', 'df[\"taxexempt,\"] = df[\"taxexempt,\"].astype(dtype = \"string\")', 'df[\"branch,tenderstatus,\"] = df[\"branch,tenderstatus,\"].astype(dtype = \"string\")', 'df[\"trans_id,\"] = df[\"trans_id,\"].astype(dtype = \"string\")', 'df[\"memtype,\"] = df[\"memtype,\"].astype(dtype = \"string\")', 'df[\"varflag,\"] = df[\"varflag,\"].astype(dtype = \"string\")', 'df[\"wicable,\"] = df[\"wicable,\"].astype(dtype = \"string\")', 'df[\"numflag,\"] = df[\"numflag,\"].astype(dtype = \"string\")', 'df[\"voided,\"] = df[\"voided,\"].astype(dtype = \"string\")', 'df[\"volume,\"] = df[\"volume,\"].astype(dtype = \"string\")', 'df[\"tax,\"] = df[\"tax,\"].astype(dtype = \"string\")', 'df[\"foodstamp\"] = df[\"foodstamp\"].astype(dtype = \"string\")'] to past\n",
      "here is copy ['df[\"altprice,\"] = df[\"altprice,\"].astype(dtype = \"string\")', 'df[\"itemstatus,\"] = df[\"itemstatus,\"].astype(dtype = \"string\")', 'df[\"display,\"] = df[\"display,\"].astype(dtype = \"string\")', 'df[\"local,\"] = df[\"local,\"].astype(dtype = \"string\")', 'df[\"batchheaderid,\"] = df[\"batchheaderid,\"].astype(dtype = \"string\")', 'df[\"match_id,\"] = df[\"match_id,\"].astype(dtype = \"string\")', 'df[\"organic,\"] = df[\"organic,\"].astype(dtype = \"string\")', 'df[\"percentdiscount,\"] = df[\"percentdiscount,\"].astype(dtype = \"string\")', 'df[\"receipt,\"] = df[\"receipt,\"].astype(dtype = \"string\")', 'df[\"matched,\"] = df[\"matched,\"].astype(dtype = \"string\")', 'df[\"staff,\"] = df[\"staff,\"].astype(dtype = \"string\")', 'df[\"scale,\"] = df[\"scale,\"].astype(dtype = \"string\")', 'df[\"taxexempt,\"] = df[\"taxexempt,\"].astype(dtype = \"string\")', 'df[\"branch,tenderstatus,\"] = df[\"branch,tenderstatus,\"].astype(dtype = \"string\")', 'df[\"trans_id,\"] = df[\"trans_id,\"].astype(dtype = \"string\")', 'df[\"memtype,\"] = df[\"memtype,\"].astype(dtype = \"string\")', 'df[\"varflag,\"] = df[\"varflag,\"].astype(dtype = \"string\")', 'df[\"wicable,\"] = df[\"wicable,\"].astype(dtype = \"string\")', 'df[\"numflag,\"] = df[\"numflag,\"].astype(dtype = \"string\")', 'df[\"voided,\"] = df[\"voided,\"].astype(dtype = \"string\")', 'df[\"volume,\"] = df[\"volume,\"].astype(dtype = \"string\")', 'df[\"tax,\"] = df[\"tax,\"].astype(dtype = \"string\")', 'df[\"foodstamp\"] = df[\"foodstamp\"].astype(dtype = \"string\")'] to past\n",
      "here is copy ['df[\"altprice,\"] = df[\"altprice,\"].astype(dtype = \"string\")', 'df[\"itemstatus,\"] = df[\"itemstatus,\"].astype(dtype = \"string\")', 'df[\"display,\"] = df[\"display,\"].astype(dtype = \"string\")', 'df[\"local,\"] = df[\"local,\"].astype(dtype = \"string\")', 'df[\"batchheaderid,\"] = df[\"batchheaderid,\"].astype(dtype = \"string\")', 'df[\"match_id,\"] = df[\"match_id,\"].astype(dtype = \"string\")', 'df[\"organic,\"] = df[\"organic,\"].astype(dtype = \"string\")', 'df[\"percentdiscount,\"] = df[\"percentdiscount,\"].astype(dtype = \"string\")', 'df[\"receipt,\"] = df[\"receipt,\"].astype(dtype = \"string\")', 'df[\"matched,\"] = df[\"matched,\"].astype(dtype = \"string\")', 'df[\"staff,\"] = df[\"staff,\"].astype(dtype = \"string\")', 'df[\"scale,\"] = df[\"scale,\"].astype(dtype = \"string\")', 'df[\"taxexempt,\"] = df[\"taxexempt,\"].astype(dtype = \"string\")', 'df[\"branch,tenderstatus,\"] = df[\"branch,tenderstatus,\"].astype(dtype = \"string\")', 'df[\"trans_id,\"] = df[\"trans_id,\"].astype(dtype = \"string\")', 'df[\"memtype,\"] = df[\"memtype,\"].astype(dtype = \"string\")', 'df[\"varflag,\"] = df[\"varflag,\"].astype(dtype = \"string\")', 'df[\"wicable,\"] = df[\"wicable,\"].astype(dtype = \"string\")', 'df[\"numflag,\"] = df[\"numflag,\"].astype(dtype = \"string\")', 'df[\"voided,\"] = df[\"voided,\"].astype(dtype = \"string\")', 'df[\"volume,\"] = df[\"volume,\"].astype(dtype = \"string\")', 'df[\"tax,\"] = df[\"tax,\"].astype(dtype = \"string\")', 'df[\"foodstamp\"] = df[\"foodstamp\"].astype(dtype = \"string\")'] to past\n",
      "here is copy ['df[\"altprice,\"] = df[\"altprice,\"].astype(dtype = \"string\")', 'df[\"itemstatus,\"] = df[\"itemstatus,\"].astype(dtype = \"string\")', 'df[\"display,\"] = df[\"display,\"].astype(dtype = \"string\")', 'df[\"local,\"] = df[\"local,\"].astype(dtype = \"string\")', 'df[\"batchheaderid,\"] = df[\"batchheaderid,\"].astype(dtype = \"string\")', 'df[\"match_id,\"] = df[\"match_id,\"].astype(dtype = \"string\")', 'df[\"organic,\"] = df[\"organic,\"].astype(dtype = \"string\")', 'df[\"percentdiscount,\"] = df[\"percentdiscount,\"].astype(dtype = \"string\")', 'df[\"receipt,\"] = df[\"receipt,\"].astype(dtype = \"string\")', 'df[\"matched,\"] = df[\"matched,\"].astype(dtype = \"string\")', 'df[\"staff,\"] = df[\"staff,\"].astype(dtype = \"string\")', 'df[\"scale,\"] = df[\"scale,\"].astype(dtype = \"string\")', 'df[\"taxexempt,\"] = df[\"taxexempt,\"].astype(dtype = \"string\")', 'df[\"branch,tenderstatus,\"] = df[\"branch,tenderstatus,\"].astype(dtype = \"string\")', 'df[\"trans_id,\"] = df[\"trans_id,\"].astype(dtype = \"string\")', 'df[\"memtype,\"] = df[\"memtype,\"].astype(dtype = \"string\")', 'df[\"varflag,\"] = df[\"varflag,\"].astype(dtype = \"string\")', 'df[\"wicable,\"] = df[\"wicable,\"].astype(dtype = \"string\")', 'df[\"numflag,\"] = df[\"numflag,\"].astype(dtype = \"string\")', 'df[\"voided,\"] = df[\"voided,\"].astype(dtype = \"string\")', 'df[\"volume,\"] = df[\"volume,\"].astype(dtype = \"string\")', 'df[\"tax,\"] = df[\"tax,\"].astype(dtype = \"string\")', 'df[\"foodstamp\"] = df[\"foodstamp\"].astype(dtype = \"string\")'] to past\n",
      "here is copy ['df[\"altprice,\"] = df[\"altprice,\"].astype(dtype = \"string\")', 'df[\"itemstatus,\"] = df[\"itemstatus,\"].astype(dtype = \"string\")', 'df[\"display,\"] = df[\"display,\"].astype(dtype = \"string\")', 'df[\"local,\"] = df[\"local,\"].astype(dtype = \"string\")', 'df[\"batchheaderid,\"] = df[\"batchheaderid,\"].astype(dtype = \"string\")', 'df[\"match_id,\"] = df[\"match_id,\"].astype(dtype = \"string\")', 'df[\"organic,\"] = df[\"organic,\"].astype(dtype = \"string\")', 'df[\"percentdiscount,\"] = df[\"percentdiscount,\"].astype(dtype = \"string\")', 'df[\"receipt,\"] = df[\"receipt,\"].astype(dtype = \"string\")', 'df[\"matched,\"] = df[\"matched,\"].astype(dtype = \"string\")', 'df[\"staff,\"] = df[\"staff,\"].astype(dtype = \"string\")', 'df[\"scale,\"] = df[\"scale,\"].astype(dtype = \"string\")', 'df[\"taxexempt,\"] = df[\"taxexempt,\"].astype(dtype = \"string\")', 'df[\"branch,tenderstatus,\"] = df[\"branch,tenderstatus,\"].astype(dtype = \"string\")', 'df[\"trans_id,\"] = df[\"trans_id,\"].astype(dtype = \"string\")', 'df[\"memtype,\"] = df[\"memtype,\"].astype(dtype = \"string\")', 'df[\"varflag,\"] = df[\"varflag,\"].astype(dtype = \"string\")', 'df[\"wicable,\"] = df[\"wicable,\"].astype(dtype = \"string\")', 'df[\"numflag,\"] = df[\"numflag,\"].astype(dtype = \"string\")', 'df[\"voided,\"] = df[\"voided,\"].astype(dtype = \"string\")', 'df[\"volume,\"] = df[\"volume,\"].astype(dtype = \"string\")', 'df[\"tax,\"] = df[\"tax,\"].astype(dtype = \"string\")', 'df[\"foodstamp\"] = df[\"foodstamp\"].astype(dtype = \"string\")'] to past\n",
      "here is copy ['df[\"altprice,\"] = df[\"altprice,\"].astype(dtype = \"string\")', 'df[\"itemstatus,\"] = df[\"itemstatus,\"].astype(dtype = \"string\")', 'df[\"display,\"] = df[\"display,\"].astype(dtype = \"string\")', 'df[\"local,\"] = df[\"local,\"].astype(dtype = \"string\")', 'df[\"batchheaderid,\"] = df[\"batchheaderid,\"].astype(dtype = \"string\")', 'df[\"match_id,\"] = df[\"match_id,\"].astype(dtype = \"string\")', 'df[\"organic,\"] = df[\"organic,\"].astype(dtype = \"string\")', 'df[\"percentdiscount,\"] = df[\"percentdiscount,\"].astype(dtype = \"string\")', 'df[\"receipt,\"] = df[\"receipt,\"].astype(dtype = \"string\")', 'df[\"matched,\"] = df[\"matched,\"].astype(dtype = \"string\")', 'df[\"staff,\"] = df[\"staff,\"].astype(dtype = \"string\")', 'df[\"scale,\"] = df[\"scale,\"].astype(dtype = \"string\")', 'df[\"taxexempt,\"] = df[\"taxexempt,\"].astype(dtype = \"string\")', 'df[\"branch,tenderstatus,\"] = df[\"branch,tenderstatus,\"].astype(dtype = \"string\")', 'df[\"trans_id,\"] = df[\"trans_id,\"].astype(dtype = \"string\")', 'df[\"memtype,\"] = df[\"memtype,\"].astype(dtype = \"string\")', 'df[\"varflag,\"] = df[\"varflag,\"].astype(dtype = \"string\")', 'df[\"wicable,\"] = df[\"wicable,\"].astype(dtype = \"string\")', 'df[\"numflag,\"] = df[\"numflag,\"].astype(dtype = \"string\")', 'df[\"voided,\"] = df[\"voided,\"].astype(dtype = \"string\")', 'df[\"volume,\"] = df[\"volume,\"].astype(dtype = \"string\")', 'df[\"tax,\"] = df[\"tax,\"].astype(dtype = \"string\")', 'df[\"foodstamp\"] = df[\"foodstamp\"].astype(dtype = \"string\")'] to past\n",
      "here is copy ['df[\"altprice,\"] = df[\"altprice,\"].astype(dtype = \"string\")', 'df[\"itemstatus,\"] = df[\"itemstatus,\"].astype(dtype = \"string\")', 'df[\"display,\"] = df[\"display,\"].astype(dtype = \"string\")', 'df[\"local,\"] = df[\"local,\"].astype(dtype = \"string\")', 'df[\"batchheaderid,\"] = df[\"batchheaderid,\"].astype(dtype = \"string\")', 'df[\"match_id,\"] = df[\"match_id,\"].astype(dtype = \"string\")', 'df[\"organic,\"] = df[\"organic,\"].astype(dtype = \"string\")', 'df[\"percentdiscount,\"] = df[\"percentdiscount,\"].astype(dtype = \"string\")', 'df[\"receipt,\"] = df[\"receipt,\"].astype(dtype = \"string\")', 'df[\"matched,\"] = df[\"matched,\"].astype(dtype = \"string\")', 'df[\"staff,\"] = df[\"staff,\"].astype(dtype = \"string\")', 'df[\"scale,\"] = df[\"scale,\"].astype(dtype = \"string\")', 'df[\"taxexempt,\"] = df[\"taxexempt,\"].astype(dtype = \"string\")', 'df[\"branch,tenderstatus,\"] = df[\"branch,tenderstatus,\"].astype(dtype = \"string\")', 'df[\"trans_id,\"] = df[\"trans_id,\"].astype(dtype = \"string\")', 'df[\"memtype,\"] = df[\"memtype,\"].astype(dtype = \"string\")', 'df[\"varflag,\"] = df[\"varflag,\"].astype(dtype = \"string\")', 'df[\"wicable,\"] = df[\"wicable,\"].astype(dtype = \"string\")', 'df[\"numflag,\"] = df[\"numflag,\"].astype(dtype = \"string\")', 'df[\"voided,\"] = df[\"voided,\"].astype(dtype = \"string\")', 'df[\"volume,\"] = df[\"volume,\"].astype(dtype = \"string\")', 'df[\"tax,\"] = df[\"tax,\"].astype(dtype = \"string\")', 'df[\"foodstamp\"] = df[\"foodstamp\"].astype(dtype = \"string\")'] to past\n",
      "here is copy ['df[\"altprice,\"] = df[\"altprice,\"].astype(dtype = \"string\")', 'df[\"itemstatus,\"] = df[\"itemstatus,\"].astype(dtype = \"string\")', 'df[\"display,\"] = df[\"display,\"].astype(dtype = \"string\")', 'df[\"local,\"] = df[\"local,\"].astype(dtype = \"string\")', 'df[\"batchheaderid,\"] = df[\"batchheaderid,\"].astype(dtype = \"string\")', 'df[\"match_id,\"] = df[\"match_id,\"].astype(dtype = \"string\")', 'df[\"organic,\"] = df[\"organic,\"].astype(dtype = \"string\")', 'df[\"percentdiscount,\"] = df[\"percentdiscount,\"].astype(dtype = \"string\")', 'df[\"receipt,\"] = df[\"receipt,\"].astype(dtype = \"string\")', 'df[\"matched,\"] = df[\"matched,\"].astype(dtype = \"string\")', 'df[\"staff,\"] = df[\"staff,\"].astype(dtype = \"string\")', 'df[\"scale,\"] = df[\"scale,\"].astype(dtype = \"string\")', 'df[\"taxexempt,\"] = df[\"taxexempt,\"].astype(dtype = \"string\")', 'df[\"branch,tenderstatus,\"] = df[\"branch,tenderstatus,\"].astype(dtype = \"string\")', 'df[\"trans_id,\"] = df[\"trans_id,\"].astype(dtype = \"string\")', 'df[\"memtype,\"] = df[\"memtype,\"].astype(dtype = \"string\")', 'df[\"varflag,\"] = df[\"varflag,\"].astype(dtype = \"string\")', 'df[\"wicable,\"] = df[\"wicable,\"].astype(dtype = \"string\")', 'df[\"numflag,\"] = df[\"numflag,\"].astype(dtype = \"string\")', 'df[\"voided,\"] = df[\"voided,\"].astype(dtype = \"string\")', 'df[\"volume,\"] = df[\"volume,\"].astype(dtype = \"string\")', 'df[\"tax,\"] = df[\"tax,\"].astype(dtype = \"string\")', 'df[\"foodstamp\"] = df[\"foodstamp\"].astype(dtype = \"string\")'] to past\n",
      "here is copy ['df[\"altprice,\"] = df[\"altprice,\"].astype(dtype = \"string\")', 'df[\"itemstatus,\"] = df[\"itemstatus,\"].astype(dtype = \"string\")', 'df[\"display,\"] = df[\"display,\"].astype(dtype = \"string\")', 'df[\"local,\"] = df[\"local,\"].astype(dtype = \"string\")', 'df[\"batchheaderid,\"] = df[\"batchheaderid,\"].astype(dtype = \"string\")', 'df[\"match_id,\"] = df[\"match_id,\"].astype(dtype = \"string\")', 'df[\"organic,\"] = df[\"organic,\"].astype(dtype = \"string\")', 'df[\"percentdiscount,\"] = df[\"percentdiscount,\"].astype(dtype = \"string\")', 'df[\"receipt,\"] = df[\"receipt,\"].astype(dtype = \"string\")', 'df[\"matched,\"] = df[\"matched,\"].astype(dtype = \"string\")', 'df[\"staff,\"] = df[\"staff,\"].astype(dtype = \"string\")', 'df[\"scale,\"] = df[\"scale,\"].astype(dtype = \"string\")', 'df[\"taxexempt,\"] = df[\"taxexempt,\"].astype(dtype = \"string\")', 'df[\"branch,tenderstatus,\"] = df[\"branch,tenderstatus,\"].astype(dtype = \"string\")', 'df[\"trans_id,\"] = df[\"trans_id,\"].astype(dtype = \"string\")', 'df[\"memtype,\"] = df[\"memtype,\"].astype(dtype = \"string\")', 'df[\"varflag,\"] = df[\"varflag,\"].astype(dtype = \"string\")', 'df[\"wicable,\"] = df[\"wicable,\"].astype(dtype = \"string\")', 'df[\"numflag,\"] = df[\"numflag,\"].astype(dtype = \"string\")', 'df[\"voided,\"] = df[\"voided,\"].astype(dtype = \"string\")', 'df[\"volume,\"] = df[\"volume,\"].astype(dtype = \"string\")', 'df[\"tax,\"] = df[\"tax,\"].astype(dtype = \"string\")', 'df[\"foodstamp\"] = df[\"foodstamp\"].astype(dtype = \"string\")'] to past\n",
      "here is copy ['df[\"altprice,\"] = df[\"altprice,\"].astype(dtype = \"string\")', 'df[\"itemstatus,\"] = df[\"itemstatus,\"].astype(dtype = \"string\")', 'df[\"display,\"] = df[\"display,\"].astype(dtype = \"string\")', 'df[\"local,\"] = df[\"local,\"].astype(dtype = \"string\")', 'df[\"batchheaderid,\"] = df[\"batchheaderid,\"].astype(dtype = \"string\")', 'df[\"match_id,\"] = df[\"match_id,\"].astype(dtype = \"string\")', 'df[\"organic,\"] = df[\"organic,\"].astype(dtype = \"string\")', 'df[\"percentdiscount,\"] = df[\"percentdiscount,\"].astype(dtype = \"string\")', 'df[\"receipt,\"] = df[\"receipt,\"].astype(dtype = \"string\")', 'df[\"matched,\"] = df[\"matched,\"].astype(dtype = \"string\")', 'df[\"staff,\"] = df[\"staff,\"].astype(dtype = \"string\")', 'df[\"scale,\"] = df[\"scale,\"].astype(dtype = \"string\")', 'df[\"taxexempt,\"] = df[\"taxexempt,\"].astype(dtype = \"string\")', 'df[\"branch,tenderstatus,\"] = df[\"branch,tenderstatus,\"].astype(dtype = \"string\")', 'df[\"trans_id,\"] = df[\"trans_id,\"].astype(dtype = \"string\")', 'df[\"memtype,\"] = df[\"memtype,\"].astype(dtype = \"string\")', 'df[\"varflag,\"] = df[\"varflag,\"].astype(dtype = \"string\")', 'df[\"wicable,\"] = df[\"wicable,\"].astype(dtype = \"string\")', 'df[\"numflag,\"] = df[\"numflag,\"].astype(dtype = \"string\")', 'df[\"voided,\"] = df[\"voided,\"].astype(dtype = \"string\")', 'df[\"volume,\"] = df[\"volume,\"].astype(dtype = \"string\")', 'df[\"tax,\"] = df[\"tax,\"].astype(dtype = \"string\")', 'df[\"foodstamp\"] = df[\"foodstamp\"].astype(dtype = \"string\")'] to past\n",
      "here is copy ['df[\"altprice,\"] = df[\"altprice,\"].astype(dtype = \"string\")', 'df[\"itemstatus,\"] = df[\"itemstatus,\"].astype(dtype = \"string\")', 'df[\"display,\"] = df[\"display,\"].astype(dtype = \"string\")', 'df[\"local,\"] = df[\"local,\"].astype(dtype = \"string\")', 'df[\"batchheaderid,\"] = df[\"batchheaderid,\"].astype(dtype = \"string\")', 'df[\"match_id,\"] = df[\"match_id,\"].astype(dtype = \"string\")', 'df[\"organic,\"] = df[\"organic,\"].astype(dtype = \"string\")', 'df[\"percentdiscount,\"] = df[\"percentdiscount,\"].astype(dtype = \"string\")', 'df[\"receipt,\"] = df[\"receipt,\"].astype(dtype = \"string\")', 'df[\"matched,\"] = df[\"matched,\"].astype(dtype = \"string\")', 'df[\"staff,\"] = df[\"staff,\"].astype(dtype = \"string\")', 'df[\"scale,\"] = df[\"scale,\"].astype(dtype = \"string\")', 'df[\"taxexempt,\"] = df[\"taxexempt,\"].astype(dtype = \"string\")', 'df[\"branch,tenderstatus,\"] = df[\"branch,tenderstatus,\"].astype(dtype = \"string\")', 'df[\"trans_id,\"] = df[\"trans_id,\"].astype(dtype = \"string\")', 'df[\"memtype,\"] = df[\"memtype,\"].astype(dtype = \"string\")', 'df[\"varflag,\"] = df[\"varflag,\"].astype(dtype = \"string\")', 'df[\"wicable,\"] = df[\"wicable,\"].astype(dtype = \"string\")', 'df[\"numflag,\"] = df[\"numflag,\"].astype(dtype = \"string\")', 'df[\"voided,\"] = df[\"voided,\"].astype(dtype = \"string\")', 'df[\"volume,\"] = df[\"volume,\"].astype(dtype = \"string\")', 'df[\"tax,\"] = df[\"tax,\"].astype(dtype = \"string\")', 'df[\"foodstamp\"] = df[\"foodstamp\"].astype(dtype = \"string\")'] to past\n",
      "here is copy ['df[\"altprice,\"] = df[\"altprice,\"].astype(dtype = \"string\")', 'df[\"itemstatus,\"] = df[\"itemstatus,\"].astype(dtype = \"string\")', 'df[\"display,\"] = df[\"display,\"].astype(dtype = \"string\")', 'df[\"local,\"] = df[\"local,\"].astype(dtype = \"string\")', 'df[\"batchheaderid,\"] = df[\"batchheaderid,\"].astype(dtype = \"string\")', 'df[\"match_id,\"] = df[\"match_id,\"].astype(dtype = \"string\")', 'df[\"organic,\"] = df[\"organic,\"].astype(dtype = \"string\")', 'df[\"percentdiscount,\"] = df[\"percentdiscount,\"].astype(dtype = \"string\")', 'df[\"receipt,\"] = df[\"receipt,\"].astype(dtype = \"string\")', 'df[\"matched,\"] = df[\"matched,\"].astype(dtype = \"string\")', 'df[\"staff,\"] = df[\"staff,\"].astype(dtype = \"string\")', 'df[\"scale,\"] = df[\"scale,\"].astype(dtype = \"string\")', 'df[\"taxexempt,\"] = df[\"taxexempt,\"].astype(dtype = \"string\")', 'df[\"branch,tenderstatus,\"] = df[\"branch,tenderstatus,\"].astype(dtype = \"string\")', 'df[\"trans_id,\"] = df[\"trans_id,\"].astype(dtype = \"string\")', 'df[\"memtype,\"] = df[\"memtype,\"].astype(dtype = \"string\")', 'df[\"varflag,\"] = df[\"varflag,\"].astype(dtype = \"string\")', 'df[\"wicable,\"] = df[\"wicable,\"].astype(dtype = \"string\")', 'df[\"numflag,\"] = df[\"numflag,\"].astype(dtype = \"string\")', 'df[\"voided,\"] = df[\"voided,\"].astype(dtype = \"string\")', 'df[\"volume,\"] = df[\"volume,\"].astype(dtype = \"string\")', 'df[\"tax,\"] = df[\"tax,\"].astype(dtype = \"string\")', 'df[\"foodstamp\"] = df[\"foodstamp\"].astype(dtype = \"string\")'] to past\n",
      "here is copy ['df[\"altprice,\"] = df[\"altprice,\"].astype(dtype = \"string\")', 'df[\"itemstatus,\"] = df[\"itemstatus,\"].astype(dtype = \"string\")', 'df[\"display,\"] = df[\"display,\"].astype(dtype = \"string\")', 'df[\"local,\"] = df[\"local,\"].astype(dtype = \"string\")', 'df[\"batchheaderid,\"] = df[\"batchheaderid,\"].astype(dtype = \"string\")', 'df[\"match_id,\"] = df[\"match_id,\"].astype(dtype = \"string\")', 'df[\"organic,\"] = df[\"organic,\"].astype(dtype = \"string\")', 'df[\"percentdiscount,\"] = df[\"percentdiscount,\"].astype(dtype = \"string\")', 'df[\"receipt,\"] = df[\"receipt,\"].astype(dtype = \"string\")', 'df[\"matched,\"] = df[\"matched,\"].astype(dtype = \"string\")', 'df[\"staff,\"] = df[\"staff,\"].astype(dtype = \"string\")', 'df[\"scale,\"] = df[\"scale,\"].astype(dtype = \"string\")', 'df[\"taxexempt,\"] = df[\"taxexempt,\"].astype(dtype = \"string\")', 'df[\"branch,tenderstatus,\"] = df[\"branch,tenderstatus,\"].astype(dtype = \"string\")', 'df[\"trans_id,\"] = df[\"trans_id,\"].astype(dtype = \"string\")', 'df[\"memtype,\"] = df[\"memtype,\"].astype(dtype = \"string\")', 'df[\"varflag,\"] = df[\"varflag,\"].astype(dtype = \"string\")', 'df[\"wicable,\"] = df[\"wicable,\"].astype(dtype = \"string\")', 'df[\"numflag,\"] = df[\"numflag,\"].astype(dtype = \"string\")', 'df[\"voided,\"] = df[\"voided,\"].astype(dtype = \"string\")', 'df[\"volume,\"] = df[\"volume,\"].astype(dtype = \"string\")', 'df[\"tax,\"] = df[\"tax,\"].astype(dtype = \"string\")', 'df[\"foodstamp\"] = df[\"foodstamp\"].astype(dtype = \"string\")'] to past\n",
      "here is copy ['df[\"altprice,\"] = df[\"altprice,\"].astype(dtype = \"string\")', 'df[\"itemstatus,\"] = df[\"itemstatus,\"].astype(dtype = \"string\")', 'df[\"display,\"] = df[\"display,\"].astype(dtype = \"string\")', 'df[\"local,\"] = df[\"local,\"].astype(dtype = \"string\")', 'df[\"batchheaderid,\"] = df[\"batchheaderid,\"].astype(dtype = \"string\")', 'df[\"match_id,\"] = df[\"match_id,\"].astype(dtype = \"string\")', 'df[\"organic,\"] = df[\"organic,\"].astype(dtype = \"string\")', 'df[\"percentdiscount,\"] = df[\"percentdiscount,\"].astype(dtype = \"string\")', 'df[\"receipt,\"] = df[\"receipt,\"].astype(dtype = \"string\")', 'df[\"matched,\"] = df[\"matched,\"].astype(dtype = \"string\")', 'df[\"staff,\"] = df[\"staff,\"].astype(dtype = \"string\")', 'df[\"scale,\"] = df[\"scale,\"].astype(dtype = \"string\")', 'df[\"taxexempt,\"] = df[\"taxexempt,\"].astype(dtype = \"string\")', 'df[\"branch,tenderstatus,\"] = df[\"branch,tenderstatus,\"].astype(dtype = \"string\")', 'df[\"trans_id,\"] = df[\"trans_id,\"].astype(dtype = \"string\")', 'df[\"memtype,\"] = df[\"memtype,\"].astype(dtype = \"string\")', 'df[\"varflag,\"] = df[\"varflag,\"].astype(dtype = \"string\")', 'df[\"wicable,\"] = df[\"wicable,\"].astype(dtype = \"string\")', 'df[\"numflag,\"] = df[\"numflag,\"].astype(dtype = \"string\")', 'df[\"voided,\"] = df[\"voided,\"].astype(dtype = \"string\")', 'df[\"volume,\"] = df[\"volume,\"].astype(dtype = \"string\")', 'df[\"tax,\"] = df[\"tax,\"].astype(dtype = \"string\")', 'df[\"foodstamp\"] = df[\"foodstamp\"].astype(dtype = \"string\")'] to past\n",
      "here is copy ['df[\"altprice,\"] = df[\"altprice,\"].astype(dtype = \"string\")', 'df[\"itemstatus,\"] = df[\"itemstatus,\"].astype(dtype = \"string\")', 'df[\"display,\"] = df[\"display,\"].astype(dtype = \"string\")', 'df[\"local,\"] = df[\"local,\"].astype(dtype = \"string\")', 'df[\"batchheaderid,\"] = df[\"batchheaderid,\"].astype(dtype = \"string\")', 'df[\"match_id,\"] = df[\"match_id,\"].astype(dtype = \"string\")', 'df[\"organic,\"] = df[\"organic,\"].astype(dtype = \"string\")', 'df[\"percentdiscount,\"] = df[\"percentdiscount,\"].astype(dtype = \"string\")', 'df[\"receipt,\"] = df[\"receipt,\"].astype(dtype = \"string\")', 'df[\"matched,\"] = df[\"matched,\"].astype(dtype = \"string\")', 'df[\"staff,\"] = df[\"staff,\"].astype(dtype = \"string\")', 'df[\"scale,\"] = df[\"scale,\"].astype(dtype = \"string\")', 'df[\"taxexempt,\"] = df[\"taxexempt,\"].astype(dtype = \"string\")', 'df[\"branch,tenderstatus,\"] = df[\"branch,tenderstatus,\"].astype(dtype = \"string\")', 'df[\"trans_id,\"] = df[\"trans_id,\"].astype(dtype = \"string\")', 'df[\"memtype,\"] = df[\"memtype,\"].astype(dtype = \"string\")', 'df[\"varflag,\"] = df[\"varflag,\"].astype(dtype = \"string\")', 'df[\"wicable,\"] = df[\"wicable,\"].astype(dtype = \"string\")', 'df[\"numflag,\"] = df[\"numflag,\"].astype(dtype = \"string\")', 'df[\"voided,\"] = df[\"voided,\"].astype(dtype = \"string\")', 'df[\"volume,\"] = df[\"volume,\"].astype(dtype = \"string\")', 'df[\"tax,\"] = df[\"tax,\"].astype(dtype = \"string\")', 'df[\"foodstamp\"] = df[\"foodstamp\"].astype(dtype = \"string\")'] to past\n",
      "here is copy ['df[\"altprice,\"] = df[\"altprice,\"].astype(dtype = \"string\")', 'df[\"itemstatus,\"] = df[\"itemstatus,\"].astype(dtype = \"string\")', 'df[\"display,\"] = df[\"display,\"].astype(dtype = \"string\")', 'df[\"local,\"] = df[\"local,\"].astype(dtype = \"string\")', 'df[\"batchheaderid,\"] = df[\"batchheaderid,\"].astype(dtype = \"string\")', 'df[\"match_id,\"] = df[\"match_id,\"].astype(dtype = \"string\")', 'df[\"organic,\"] = df[\"organic,\"].astype(dtype = \"string\")', 'df[\"percentdiscount,\"] = df[\"percentdiscount,\"].astype(dtype = \"string\")', 'df[\"receipt,\"] = df[\"receipt,\"].astype(dtype = \"string\")', 'df[\"matched,\"] = df[\"matched,\"].astype(dtype = \"string\")', 'df[\"staff,\"] = df[\"staff,\"].astype(dtype = \"string\")', 'df[\"scale,\"] = df[\"scale,\"].astype(dtype = \"string\")', 'df[\"taxexempt,\"] = df[\"taxexempt,\"].astype(dtype = \"string\")', 'df[\"branch,tenderstatus,\"] = df[\"branch,tenderstatus,\"].astype(dtype = \"string\")', 'df[\"trans_id,\"] = df[\"trans_id,\"].astype(dtype = \"string\")', 'df[\"memtype,\"] = df[\"memtype,\"].astype(dtype = \"string\")', 'df[\"varflag,\"] = df[\"varflag,\"].astype(dtype = \"string\")', 'df[\"wicable,\"] = df[\"wicable,\"].astype(dtype = \"string\")', 'df[\"numflag,\"] = df[\"numflag,\"].astype(dtype = \"string\")', 'df[\"voided,\"] = df[\"voided,\"].astype(dtype = \"string\")', 'df[\"volume,\"] = df[\"volume,\"].astype(dtype = \"string\")', 'df[\"tax,\"] = df[\"tax,\"].astype(dtype = \"string\")', 'df[\"foodstamp\"] = df[\"foodstamp\"].astype(dtype = \"string\")'] to past\n",
      "here is copy ['df[\"altprice,\"] = df[\"altprice,\"].astype(dtype = \"string\")', 'df[\"itemstatus,\"] = df[\"itemstatus,\"].astype(dtype = \"string\")', 'df[\"display,\"] = df[\"display,\"].astype(dtype = \"string\")', 'df[\"local,\"] = df[\"local,\"].astype(dtype = \"string\")', 'df[\"batchheaderid,\"] = df[\"batchheaderid,\"].astype(dtype = \"string\")', 'df[\"match_id,\"] = df[\"match_id,\"].astype(dtype = \"string\")', 'df[\"organic,\"] = df[\"organic,\"].astype(dtype = \"string\")', 'df[\"percentdiscount,\"] = df[\"percentdiscount,\"].astype(dtype = \"string\")', 'df[\"receipt,\"] = df[\"receipt,\"].astype(dtype = \"string\")', 'df[\"matched,\"] = df[\"matched,\"].astype(dtype = \"string\")', 'df[\"staff,\"] = df[\"staff,\"].astype(dtype = \"string\")', 'df[\"scale,\"] = df[\"scale,\"].astype(dtype = \"string\")', 'df[\"taxexempt,\"] = df[\"taxexempt,\"].astype(dtype = \"string\")', 'df[\"branch,tenderstatus,\"] = df[\"branch,tenderstatus,\"].astype(dtype = \"string\")', 'df[\"trans_id,\"] = df[\"trans_id,\"].astype(dtype = \"string\")', 'df[\"memtype,\"] = df[\"memtype,\"].astype(dtype = \"string\")', 'df[\"varflag,\"] = df[\"varflag,\"].astype(dtype = \"string\")', 'df[\"wicable,\"] = df[\"wicable,\"].astype(dtype = \"string\")', 'df[\"numflag,\"] = df[\"numflag,\"].astype(dtype = \"string\")', 'df[\"voided,\"] = df[\"voided,\"].astype(dtype = \"string\")', 'df[\"volume,\"] = df[\"volume,\"].astype(dtype = \"string\")', 'df[\"tax,\"] = df[\"tax,\"].astype(dtype = \"string\")', 'df[\"foodstamp\"] = df[\"foodstamp\"].astype(dtype = \"string\")'] to past\n",
      "here is copy ['df[\"altprice,\"] = df[\"altprice,\"].astype(dtype = \"string\")', 'df[\"itemstatus,\"] = df[\"itemstatus,\"].astype(dtype = \"string\")', 'df[\"display,\"] = df[\"display,\"].astype(dtype = \"string\")', 'df[\"local,\"] = df[\"local,\"].astype(dtype = \"string\")', 'df[\"batchheaderid,\"] = df[\"batchheaderid,\"].astype(dtype = \"string\")', 'df[\"match_id,\"] = df[\"match_id,\"].astype(dtype = \"string\")', 'df[\"organic,\"] = df[\"organic,\"].astype(dtype = \"string\")', 'df[\"percentdiscount,\"] = df[\"percentdiscount,\"].astype(dtype = \"string\")', 'df[\"receipt,\"] = df[\"receipt,\"].astype(dtype = \"string\")', 'df[\"matched,\"] = df[\"matched,\"].astype(dtype = \"string\")', 'df[\"staff,\"] = df[\"staff,\"].astype(dtype = \"string\")', 'df[\"scale,\"] = df[\"scale,\"].astype(dtype = \"string\")', 'df[\"taxexempt,\"] = df[\"taxexempt,\"].astype(dtype = \"string\")', 'df[\"branch,tenderstatus,\"] = df[\"branch,tenderstatus,\"].astype(dtype = \"string\")', 'df[\"trans_id,\"] = df[\"trans_id,\"].astype(dtype = \"string\")', 'df[\"memtype,\"] = df[\"memtype,\"].astype(dtype = \"string\")', 'df[\"varflag,\"] = df[\"varflag,\"].astype(dtype = \"string\")', 'df[\"wicable,\"] = df[\"wicable,\"].astype(dtype = \"string\")', 'df[\"numflag,\"] = df[\"numflag,\"].astype(dtype = \"string\")', 'df[\"voided,\"] = df[\"voided,\"].astype(dtype = \"string\")', 'df[\"volume,\"] = df[\"volume,\"].astype(dtype = \"string\")', 'df[\"tax,\"] = df[\"tax,\"].astype(dtype = \"string\")', 'df[\"foodstamp\"] = df[\"foodstamp\"].astype(dtype = \"string\")'] to past\n",
      "here is copy ['df[\"altprice,\"] = df[\"altprice,\"].astype(dtype = \"string\")', 'df[\"itemstatus,\"] = df[\"itemstatus,\"].astype(dtype = \"string\")', 'df[\"display,\"] = df[\"display,\"].astype(dtype = \"string\")', 'df[\"local,\"] = df[\"local,\"].astype(dtype = \"string\")', 'df[\"batchheaderid,\"] = df[\"batchheaderid,\"].astype(dtype = \"string\")', 'df[\"match_id,\"] = df[\"match_id,\"].astype(dtype = \"string\")', 'df[\"organic,\"] = df[\"organic,\"].astype(dtype = \"string\")', 'df[\"percentdiscount,\"] = df[\"percentdiscount,\"].astype(dtype = \"string\")', 'df[\"receipt,\"] = df[\"receipt,\"].astype(dtype = \"string\")', 'df[\"matched,\"] = df[\"matched,\"].astype(dtype = \"string\")', 'df[\"staff,\"] = df[\"staff,\"].astype(dtype = \"string\")', 'df[\"scale,\"] = df[\"scale,\"].astype(dtype = \"string\")', 'df[\"taxexempt,\"] = df[\"taxexempt,\"].astype(dtype = \"string\")', 'df[\"branch,tenderstatus,\"] = df[\"branch,tenderstatus,\"].astype(dtype = \"string\")', 'df[\"trans_id,\"] = df[\"trans_id,\"].astype(dtype = \"string\")', 'df[\"memtype,\"] = df[\"memtype,\"].astype(dtype = \"string\")', 'df[\"varflag,\"] = df[\"varflag,\"].astype(dtype = \"string\")', 'df[\"wicable,\"] = df[\"wicable,\"].astype(dtype = \"string\")', 'df[\"numflag,\"] = df[\"numflag,\"].astype(dtype = \"string\")', 'df[\"voided,\"] = df[\"voided,\"].astype(dtype = \"string\")', 'df[\"volume,\"] = df[\"volume,\"].astype(dtype = \"string\")', 'df[\"tax,\"] = df[\"tax,\"].astype(dtype = \"string\")', 'df[\"foodstamp\"] = df[\"foodstamp\"].astype(dtype = \"string\")'] to past\n",
      "here is copy ['df[\"altprice,\"] = df[\"altprice,\"].astype(dtype = \"string\")', 'df[\"itemstatus,\"] = df[\"itemstatus,\"].astype(dtype = \"string\")', 'df[\"display,\"] = df[\"display,\"].astype(dtype = \"string\")', 'df[\"local,\"] = df[\"local,\"].astype(dtype = \"string\")', 'df[\"batchheaderid,\"] = df[\"batchheaderid,\"].astype(dtype = \"string\")', 'df[\"match_id,\"] = df[\"match_id,\"].astype(dtype = \"string\")', 'df[\"organic,\"] = df[\"organic,\"].astype(dtype = \"string\")', 'df[\"percentdiscount,\"] = df[\"percentdiscount,\"].astype(dtype = \"string\")', 'df[\"receipt,\"] = df[\"receipt,\"].astype(dtype = \"string\")', 'df[\"matched,\"] = df[\"matched,\"].astype(dtype = \"string\")', 'df[\"staff,\"] = df[\"staff,\"].astype(dtype = \"string\")', 'df[\"scale,\"] = df[\"scale,\"].astype(dtype = \"string\")', 'df[\"taxexempt,\"] = df[\"taxexempt,\"].astype(dtype = \"string\")', 'df[\"branch,tenderstatus,\"] = df[\"branch,tenderstatus,\"].astype(dtype = \"string\")', 'df[\"trans_id,\"] = df[\"trans_id,\"].astype(dtype = \"string\")', 'df[\"memtype,\"] = df[\"memtype,\"].astype(dtype = \"string\")', 'df[\"varflag,\"] = df[\"varflag,\"].astype(dtype = \"string\")', 'df[\"wicable,\"] = df[\"wicable,\"].astype(dtype = \"string\")', 'df[\"numflag,\"] = df[\"numflag,\"].astype(dtype = \"string\")', 'df[\"voided,\"] = df[\"voided,\"].astype(dtype = \"string\")', 'df[\"volume,\"] = df[\"volume,\"].astype(dtype = \"string\")', 'df[\"tax,\"] = df[\"tax,\"].astype(dtype = \"string\")', 'df[\"foodstamp\"] = df[\"foodstamp\"].astype(dtype = \"string\")'] to past\n",
      "here is copy ['df[\"altprice,\"] = df[\"altprice,\"].astype(dtype = \"string\")', 'df[\"itemstatus,\"] = df[\"itemstatus,\"].astype(dtype = \"string\")', 'df[\"display,\"] = df[\"display,\"].astype(dtype = \"string\")', 'df[\"local,\"] = df[\"local,\"].astype(dtype = \"string\")', 'df[\"batchheaderid,\"] = df[\"batchheaderid,\"].astype(dtype = \"string\")', 'df[\"match_id,\"] = df[\"match_id,\"].astype(dtype = \"string\")', 'df[\"organic,\"] = df[\"organic,\"].astype(dtype = \"string\")', 'df[\"percentdiscount,\"] = df[\"percentdiscount,\"].astype(dtype = \"string\")', 'df[\"receipt,\"] = df[\"receipt,\"].astype(dtype = \"string\")', 'df[\"matched,\"] = df[\"matched,\"].astype(dtype = \"string\")', 'df[\"staff,\"] = df[\"staff,\"].astype(dtype = \"string\")', 'df[\"scale,\"] = df[\"scale,\"].astype(dtype = \"string\")', 'df[\"taxexempt,\"] = df[\"taxexempt,\"].astype(dtype = \"string\")', 'df[\"branch,tenderstatus,\"] = df[\"branch,tenderstatus,\"].astype(dtype = \"string\")', 'df[\"trans_id,\"] = df[\"trans_id,\"].astype(dtype = \"string\")', 'df[\"memtype,\"] = df[\"memtype,\"].astype(dtype = \"string\")', 'df[\"varflag,\"] = df[\"varflag,\"].astype(dtype = \"string\")', 'df[\"wicable,\"] = df[\"wicable,\"].astype(dtype = \"string\")', 'df[\"numflag,\"] = df[\"numflag,\"].astype(dtype = \"string\")', 'df[\"voided,\"] = df[\"voided,\"].astype(dtype = \"string\")', 'df[\"volume,\"] = df[\"volume,\"].astype(dtype = \"string\")', 'df[\"tax,\"] = df[\"tax,\"].astype(dtype = \"string\")', 'df[\"foodstamp\"] = df[\"foodstamp\"].astype(dtype = \"string\")'] to past\n",
      "here is copy ['df[\"altprice,\"] = df[\"altprice,\"].astype(dtype = \"string\")', 'df[\"itemstatus,\"] = df[\"itemstatus,\"].astype(dtype = \"string\")', 'df[\"display,\"] = df[\"display,\"].astype(dtype = \"string\")', 'df[\"local,\"] = df[\"local,\"].astype(dtype = \"string\")', 'df[\"batchheaderid,\"] = df[\"batchheaderid,\"].astype(dtype = \"string\")', 'df[\"match_id,\"] = df[\"match_id,\"].astype(dtype = \"string\")', 'df[\"organic,\"] = df[\"organic,\"].astype(dtype = \"string\")', 'df[\"percentdiscount,\"] = df[\"percentdiscount,\"].astype(dtype = \"string\")', 'df[\"receipt,\"] = df[\"receipt,\"].astype(dtype = \"string\")', 'df[\"matched,\"] = df[\"matched,\"].astype(dtype = \"string\")', 'df[\"staff,\"] = df[\"staff,\"].astype(dtype = \"string\")', 'df[\"scale,\"] = df[\"scale,\"].astype(dtype = \"string\")', 'df[\"taxexempt,\"] = df[\"taxexempt,\"].astype(dtype = \"string\")', 'df[\"branch,tenderstatus,\"] = df[\"branch,tenderstatus,\"].astype(dtype = \"string\")', 'df[\"trans_id,\"] = df[\"trans_id,\"].astype(dtype = \"string\")', 'df[\"memtype,\"] = df[\"memtype,\"].astype(dtype = \"string\")', 'df[\"varflag,\"] = df[\"varflag,\"].astype(dtype = \"string\")', 'df[\"wicable,\"] = df[\"wicable,\"].astype(dtype = \"string\")', 'df[\"numflag,\"] = df[\"numflag,\"].astype(dtype = \"string\")', 'df[\"voided,\"] = df[\"voided,\"].astype(dtype = \"string\")', 'df[\"volume,\"] = df[\"volume,\"].astype(dtype = \"string\")', 'df[\"tax,\"] = df[\"tax,\"].astype(dtype = \"string\")', 'df[\"foodstamp\"] = df[\"foodstamp\"].astype(dtype = \"string\")'] to past\n",
      "here is copy ['df[\"altprice,\"] = df[\"altprice,\"].astype(dtype = \"string\")', 'df[\"itemstatus,\"] = df[\"itemstatus,\"].astype(dtype = \"string\")', 'df[\"display,\"] = df[\"display,\"].astype(dtype = \"string\")', 'df[\"local,\"] = df[\"local,\"].astype(dtype = \"string\")', 'df[\"batchheaderid,\"] = df[\"batchheaderid,\"].astype(dtype = \"string\")', 'df[\"match_id,\"] = df[\"match_id,\"].astype(dtype = \"string\")', 'df[\"organic,\"] = df[\"organic,\"].astype(dtype = \"string\")', 'df[\"percentdiscount,\"] = df[\"percentdiscount,\"].astype(dtype = \"string\")', 'df[\"receipt,\"] = df[\"receipt,\"].astype(dtype = \"string\")', 'df[\"matched,\"] = df[\"matched,\"].astype(dtype = \"string\")', 'df[\"staff,\"] = df[\"staff,\"].astype(dtype = \"string\")', 'df[\"scale,\"] = df[\"scale,\"].astype(dtype = \"string\")', 'df[\"taxexempt,\"] = df[\"taxexempt,\"].astype(dtype = \"string\")', 'df[\"branch,tenderstatus,\"] = df[\"branch,tenderstatus,\"].astype(dtype = \"string\")', 'df[\"trans_id,\"] = df[\"trans_id,\"].astype(dtype = \"string\")', 'df[\"memtype,\"] = df[\"memtype,\"].astype(dtype = \"string\")', 'df[\"varflag,\"] = df[\"varflag,\"].astype(dtype = \"string\")', 'df[\"wicable,\"] = df[\"wicable,\"].astype(dtype = \"string\")', 'df[\"numflag,\"] = df[\"numflag,\"].astype(dtype = \"string\")', 'df[\"voided,\"] = df[\"voided,\"].astype(dtype = \"string\")', 'df[\"volume,\"] = df[\"volume,\"].astype(dtype = \"string\")', 'df[\"tax,\"] = df[\"tax,\"].astype(dtype = \"string\")', 'df[\"foodstamp\"] = df[\"foodstamp\"].astype(dtype = \"string\")'] to past\n"
     ]
    }
   ],
   "source": []
  },
  {
   "cell_type": "code",
   "execution_count": null,
   "id": "1487c99f",
   "metadata": {},
   "outputs": [],
   "source": []
  },
  {
   "cell_type": "code",
   "execution_count": 19,
   "id": "28c5b192",
   "metadata": {},
   "outputs": [],
   "source": [
    "tmc = [i.replace('\"', '') for i in tm]"
   ]
  },
  {
   "cell_type": "code",
   "execution_count": 24,
   "id": "7d7177fd",
   "metadata": {},
   "outputs": [
    {
     "data": {
      "text/plain": [
       "['df[altprice,] = df[altprice,].astype(dtype = string)',\n",
       " 'df[itemstatus,] = df[itemstatus,].astype(dtype = string)',\n",
       " 'df[display,] = df[display,].astype(dtype = string)',\n",
       " 'df[local,] = df[local,].astype(dtype = string)',\n",
       " 'df[batchheaderid,] = df[batchheaderid,].astype(dtype = string)',\n",
       " 'df[match_id,] = df[match_id,].astype(dtype = string)',\n",
       " 'df[organic,] = df[organic,].astype(dtype = string)',\n",
       " 'df[percentdiscount,] = df[percentdiscount,].astype(dtype = string)',\n",
       " 'df[receipt,] = df[receipt,].astype(dtype = string)',\n",
       " 'df[matched,] = df[matched,].astype(dtype = string)',\n",
       " 'df[staff,] = df[staff,].astype(dtype = string)',\n",
       " 'df[scale,] = df[scale,].astype(dtype = string)',\n",
       " 'df[taxexempt,] = df[taxexempt,].astype(dtype = string)',\n",
       " 'df[branch,tenderstatus,] = df[branch,tenderstatus,].astype(dtype = string)',\n",
       " 'df[trans_id,] = df[trans_id,].astype(dtype = string)',\n",
       " 'df[memtype,] = df[memtype,].astype(dtype = string)',\n",
       " 'df[varflag,] = df[varflag,].astype(dtype = string)',\n",
       " 'df[wicable,] = df[wicable,].astype(dtype = string)',\n",
       " 'df[numflag,] = df[numflag,].astype(dtype = string)',\n",
       " 'df[voided,] = df[voided,].astype(dtype = string)',\n",
       " 'df[volume,] = df[volume,].astype(dtype = string)',\n",
       " 'df[tax,] = df[tax,].astype(dtype = string)',\n",
       " 'df[foodstamp] = df[foodstamp].astype(dtype = string)']"
      ]
     },
     "execution_count": 24,
     "metadata": {},
     "output_type": "execute_result"
    }
   ],
   "source": [
    "tmc"
   ]
  },
  {
   "cell_type": "code",
   "execution_count": 21,
   "id": "94f512b1",
   "metadata": {},
   "outputs": [],
   "source": [
    "tmcl = [i.replace(',', '') for i in tmc]"
   ]
  },
  {
   "cell_type": "code",
   "execution_count": 23,
   "id": "d9be5eb8",
   "metadata": {},
   "outputs": [
    {
     "name": "stdout",
     "output_type": "stream",
     "text": [
      "['df[altprice] = df[altprice].astype(dtype = string)', 'df[itemstatus] = df[itemstatus].astype(dtype = string)', 'df[display] = df[display].astype(dtype = string)', 'df[local] = df[local].astype(dtype = string)', 'df[batchheaderid] = df[batchheaderid].astype(dtype = string)', 'df[match_id] = df[match_id].astype(dtype = string)', 'df[organic] = df[organic].astype(dtype = string)', 'df[percentdiscount] = df[percentdiscount].astype(dtype = string)', 'df[receipt] = df[receipt].astype(dtype = string)', 'df[matched] = df[matched].astype(dtype = string)', 'df[staff] = df[staff].astype(dtype = string)', 'df[scale] = df[scale].astype(dtype = string)', 'df[taxexempt] = df[taxexempt].astype(dtype = string)', 'df[branchtenderstatus] = df[branchtenderstatus].astype(dtype = string)', 'df[trans_id] = df[trans_id].astype(dtype = string)', 'df[memtype] = df[memtype].astype(dtype = string)', 'df[varflag] = df[varflag].astype(dtype = string)', 'df[wicable] = df[wicable].astype(dtype = string)', 'df[numflag] = df[numflag].astype(dtype = string)', 'df[voided] = df[voided].astype(dtype = string)', 'df[volume] = df[volume].astype(dtype = string)', 'df[tax] = df[tax].astype(dtype = string)', 'df[foodstamp] = df[foodstamp].astype(dtype = string)']\n"
     ]
    }
   ],
   "source": [
    "print(tmcl)"
   ]
  },
  {
   "cell_type": "code",
   "execution_count": null,
   "id": "381d064e",
   "metadata": {},
   "outputs": [],
   "source": []
  }
 ],
 "metadata": {
  "kernelspec": {
   "display_name": "Python 3 (ipykernel)",
   "language": "python",
   "name": "python3"
  },
  "language_info": {
   "codemirror_mode": {
    "name": "ipython",
    "version": 3
   },
   "file_extension": ".py",
   "mimetype": "text/x-python",
   "name": "python",
   "nbconvert_exporter": "python",
   "pygments_lexer": "ipython3",
   "version": "3.9.12"
  }
 },
 "nbformat": 4,
 "nbformat_minor": 5
}
