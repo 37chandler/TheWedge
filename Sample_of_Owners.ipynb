{
 "cells": [
  {
   "cell_type": "markdown",
   "id": "0944dca0",
   "metadata": {},
   "source": [
    "# Task 2: A Sample of Owners\n",
    "\n",
    "Here I will generate a file of owners where the file contains every record for each owner. \n",
    "\n",
    "There will be more than one owner is the file, and I will not include card no. 3 (this represents a group of non-owners). \n",
    "\n",
    "The ideal sample size is about 250MB—big enough to be rich, small enough to be fast-ish.\n",
    "\n",
    "\n",
    "### The Deliverable \n",
    "A python script that handles the following tasks: \n",
    "\n",
    "1.\tConnects to your GBQ instance.\n",
    "\n",
    "2.\tBuilds a list of owners. \n",
    "\n",
    "3.\tTakes a sample of the owners. \n",
    "\n",
    "4.\tExtracts all records associated with those owners and writes them to a local text file. \n",
    "\n"
   ]
  },
  {
   "cell_type": "code",
   "execution_count": 1,
   "id": "297bc2bb",
   "metadata": {},
   "outputs": [],
   "source": [
    "import os\n",
    "import re\n",
    "import datetime\n",
    "import sqlite3\n",
    "\n",
    "\n",
    "import pandas as pd\n",
    "import numpy as np\n",
    "import matplotlib.pyplot as plt\n",
    "import pandas_gbq\n",
    "import janitor\n",
    "import pprint\n",
    "# Do our imports for the code\n",
    "from google.cloud import bigquery\n",
    "from google.oauth2 import service_account\n",
    "from sqlalchemy import create_engine"
   ]
  },
  {
   "cell_type": "markdown",
   "id": "0ee55467",
   "metadata": {},
   "source": [
    "## Connect to GBQ"
   ]
  },
  {
   "cell_type": "code",
   "execution_count": 65,
   "id": "860a03d8",
   "metadata": {},
   "outputs": [],
   "source": [
    "#Set Paths for GBQ\n",
    "service_path = \"/Users/meganalbee/Desktop/ADA/key/\"\n",
    "service_file = 'albee-msba-4037d70faf07.json' # My Key   \n",
    "gbq_proj_id = 'albee-msba' # My GBQ \n",
    "dataset_id = 'wedge_msba' #Set to the Wedge\n",
    "\n",
    "#Private Key. Do not change. \n",
    "private_key = service_path + service_file"
   ]
  },
  {
   "cell_type": "code",
   "execution_count": 3,
   "id": "07aec489",
   "metadata": {},
   "outputs": [],
   "source": [
    "# Now we pass in our credentials so that Python has permission to access our project.\n",
    "credentials = service_account.Credentials.from_service_account_file(service_path + service_file)"
   ]
  },
  {
   "cell_type": "code",
   "execution_count": 4,
   "id": "8c3d9c8d",
   "metadata": {},
   "outputs": [],
   "source": [
    "# And finally we establish our connection\n",
    "client = bigquery.Client(credentials = credentials, project=gbq_proj_id)"
   ]
  },
  {
   "cell_type": "markdown",
   "id": "dd1582c3",
   "metadata": {},
   "source": [
    "## Building List of Owners"
   ]
  },
  {
   "cell_type": "code",
   "execution_count": 5,
   "id": "623cfff2",
   "metadata": {},
   "outputs": [
    {
     "name": "stderr",
     "output_type": "stream",
     "text": [
      "Downloading: 100%|███████████████████| 27208/27208 [00:00<00:00, 36978.29rows/s]\n"
     ]
    }
   ],
   "source": [
    "#List holding all unique IDs\n",
    "owner_start = \"\"\"\n",
    "        SELECT DISTINCT(card_no) as uc\n",
    "        FROM `albee-msba.wedge_msba.transArchive_*`\n",
    "        WHERE card_no != 3\n",
    "\"\"\"\n",
    "\n",
    "#change os\n",
    "ostart = pandas_gbq.read_gbq(owner_start,project_id = gbq_proj_id)\n",
    " "
   ]
  },
  {
   "cell_type": "code",
   "execution_count": 9,
   "id": "f6bb7f86",
   "metadata": {},
   "outputs": [],
   "source": [
    "query_start = \"\"\"\n",
    "        SELECT *\n",
    "        FROM `albee-msba.wedge_msba.transArchive_*`\n",
    "        WHERE card_no IN ( \"\"\""
   ]
  },
  {
   "cell_type": "code",
   "execution_count": 56,
   "id": "e0702709",
   "metadata": {},
   "outputs": [],
   "source": [
    "#DF with random Sample of owner numbers \n",
    "ostart_sample = ostart.sample(n = 600)"
   ]
  },
  {
   "cell_type": "code",
   "execution_count": 57,
   "id": "df3350db",
   "metadata": {
    "scrolled": true
   },
   "outputs": [],
   "source": [
    "#Preview Sample\n",
    "owner_nums = ostart_sample.uc.tolist()"
   ]
  },
  {
   "cell_type": "code",
   "execution_count": 60,
   "id": "89fbe006",
   "metadata": {},
   "outputs": [],
   "source": [
    "query = query_start+\",\".join([str(num) for num in owner_nums])+')'"
   ]
  },
  {
   "cell_type": "code",
   "execution_count": 61,
   "id": "514d0e24",
   "metadata": {},
   "outputs": [
    {
     "name": "stderr",
     "output_type": "stream",
     "text": [
      "Downloading: 100%|████████████████| 1171112/1171112 [06:05<00:00, 3205.49rows/s]\n"
     ]
    }
   ],
   "source": [
    "results = pandas_gbq.read_gbq(query, project_id = gbq_proj_id)\n",
    " "
   ]
  },
  {
   "cell_type": "code",
   "execution_count": 62,
   "id": "f15d3c2e",
   "metadata": {},
   "outputs": [
    {
     "data": {
      "text/plain": [
       "(1171112, 50)"
      ]
     },
     "execution_count": 62,
     "metadata": {},
     "output_type": "execute_result"
    }
   ],
   "source": [
    "results.shape"
   ]
  },
  {
   "cell_type": "code",
   "execution_count": 67,
   "id": "800bd2a3",
   "metadata": {},
   "outputs": [],
   "source": [
    "results.to_csv('owner_sample_results.csv')"
   ]
  }
 ],
 "metadata": {
  "kernelspec": {
   "display_name": "Python 3 (ipykernel)",
   "language": "python",
   "name": "python3"
  },
  "language_info": {
   "codemirror_mode": {
    "name": "ipython",
    "version": 3
   },
   "file_extension": ".py",
   "mimetype": "text/x-python",
   "name": "python",
   "nbconvert_exporter": "python",
   "pygments_lexer": "ipython3",
   "version": "3.9.12"
  }
 },
 "nbformat": 4,
 "nbformat_minor": 5
}
